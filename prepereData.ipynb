{
 "cells": [
  {
   "cell_type": "code",
   "execution_count": 3,
   "metadata": {},
   "outputs": [],
   "source": [
    "import pandas as pd\n",
    "import os\n",
    "import sys\n",
    "module_path = os.path.abspath(os.path.join('/Users/balbi/Downloads/pyMorfologik-master'))\n",
    "if module_path not in sys.path:\n",
    "    sys.path.append(module_path)\n",
    "from pymorfologik import Morfologik\n",
    "from pymorfologik.parsing import ListParser\n",
    "\n",
    "import numpy as np\n",
    "from __future__ import print_function\n",
    "import string\n",
    "\n",
    "import matplotlib.pyplot as plt\n",
    "%matplotlib inline"
   ]
  },
  {
   "cell_type": "code",
   "execution_count": 36,
   "metadata": {},
   "outputs": [],
   "source": [
    "result_df = pd.read_csv('mediaKrytyk-comments-analysis-dictParser-emotionsList.csv')\n",
    "result_df = result_df.reset_index()\n",
    "result_df.loc[result_df.detectedEmotion == 'neutral', 'detectedEmotion'] = \"negative\"\n",
    "result_df['correct_guess'] = result_df['detectedEmotion'] == result_df['emotion']"
   ]
  },
  {
   "cell_type": "code",
   "execution_count": 47,
   "metadata": {},
   "outputs": [],
   "source": [
    "def get_length(text):\n",
    "    return len(text)\n",
    "\n",
    "def get_length_bin(length):\n",
    "    return round(length / 10)\n",
    "\n",
    "def get_score(result):\n",
    "    return 1 if result else 0\n",
    "\n",
    "def prepereDataForPlot(result_df):\n",
    "    result_df['score'] = map(get_score, result_df['correct_guess'])\n",
    "    #create group with 10 elements\n",
    "    result_df['text_length_bin'] = map(get_length_bin, result_df['words'])    \n",
    "    return result_df"
   ]
  },
  {
   "cell_type": "code",
   "execution_count": 52,
   "metadata": {},
   "outputs": [],
   "source": [
    "def createPlotTextLength(result_df):\n",
    "    # data to plot\n",
    "    n_groups = round(result_df['text_length_bin'].max())\n",
    "    \n",
    "    grouped = result_df.groupby('text_length_bin', as_index=False).mean()\n",
    "    sum_elements = grouped.words\n",
    "    means_words = grouped.words/sum_elements\n",
    "    means_lemmatisation = grouped.wordsAfterLemmatisation/sum_elements\n",
    "    means_emotions = grouped.wordsFound/sum_elements\n",
    "\n",
    "    # create plot\n",
    "    fig, ax = plt.subplots()\n",
    "    index = np.arange(len(grouped))\n",
    "    bar_width = 0.35\n",
    "    opacity = 0.5\n",
    "\n",
    "    rects1 = plt.bar(index, means_words, bar_width,\n",
    "                 alpha=opacity,\n",
    "                 color='b')\n",
    "\n",
    "    rects2 = plt.bar(index, means_lemmatisation, bar_width,\n",
    "                 alpha=opacity,\n",
    "                 color='g')\n",
    "    \n",
    "    rects2 = plt.bar(index, means_emotions, bar_width,\n",
    "                 alpha=opacity,\n",
    "                 color='c')\n",
    "\n",
    "    plt.xlabel('Lenght of text')\n",
    "    plt.ylabel('Percent')\n",
    "    #plt.title('Scores by person')\n",
    "    plt.xticks(index, (0, 10, 20, 30, 40, 50, 60, 70))\n",
    "    plt.legend()\n",
    "\n",
    "    plt.tight_layout()\n",
    "    plt.show()"
   ]
  },
  {
   "cell_type": "code",
   "execution_count": 53,
   "metadata": {},
   "outputs": [
    {
     "data": {
      "image/png": "[encoded data removed]",
      "text/plain": [
       "<matplotlib.figure.Figure at 0x11b78c050>"
      ]
     },
     "metadata": {},
     "output_type": "display_data"
    }
   ],
   "source": [
    "createPlotTextLength(result_df)"
   ]
  },
  {
   "cell_type": "code",
   "execution_count": 49,
   "metadata": {},
   "outputs": [
    {
     "data": {
      "text/plain": [
       "array([0., 1., 2., 3., 4., 5., 6.])"
      ]
     },
     "execution_count": 49,
     "metadata": {},
     "output_type": "execute_result"
    }
   ],
   "source": [
    "n_groups = round(result_df['text_length_bin'].max())\n",
    "n_groups\n",
    "np.arange(n_groups)\n",
    "grouped = result_df.groupby('text_length_bin', as_index=False).mean()\n",
    "np.arange(result_df['text_length_bin'].max())"
   ]
  },
  {
   "cell_type": "code",
   "execution_count": 54,
   "metadata": {},
   "outputs": [
    {
     "data": {
      "text/html": [
       "<div>\n",
       "<style scoped>\n",
       "    .dataframe tbody tr th:only-of-type {\n",
       "        vertical-align: middle;\n",
       "    }\n",
       "\n",
       "    .dataframe tbody tr th {\n",
       "        vertical-align: top;\n",
       "    }\n",
       "\n",
       "    .dataframe thead th {\n",
       "        text-align: right;\n",
       "    }\n",
       "</style>\n",
       "<table border=\"1\" class=\"dataframe\">\n",
       "  <thead>\n",
       "    <tr style=\"text-align: right;\">\n",
       "      <th></th>\n",
       "      <th>text_length_bin</th>\n",
       "      <th>index</th>\n",
       "      <th>rate</th>\n",
       "      <th>resultOfDetecting</th>\n",
       "      <th>words</th>\n",
       "      <th>wordsAfterLemmatisation</th>\n",
       "      <th>wordsFound</th>\n",
       "      <th>correct_guess</th>\n",
       "      <th>score</th>\n",
       "    </tr>\n",
       "  </thead>\n",
       "  <tbody>\n",
       "    <tr>\n",
       "      <th>0</th>\n",
       "      <td>0.0</td>\n",
       "      <td>2790.588517</td>\n",
       "      <td>6.277033</td>\n",
       "      <td>0.108541</td>\n",
       "      <td>3.387560</td>\n",
       "      <td>3.306220</td>\n",
       "      <td>1.291866</td>\n",
       "      <td>0.684211</td>\n",
       "      <td>0.684211</td>\n",
       "    </tr>\n",
       "    <tr>\n",
       "      <th>1</th>\n",
       "      <td>1.0</td>\n",
       "      <td>2979.084092</td>\n",
       "      <td>6.336154</td>\n",
       "      <td>0.026266</td>\n",
       "      <td>9.850027</td>\n",
       "      <td>9.372255</td>\n",
       "      <td>2.693626</td>\n",
       "      <td>0.580611</td>\n",
       "      <td>0.580611</td>\n",
       "    </tr>\n",
       "    <tr>\n",
       "      <th>2</th>\n",
       "      <td>2.0</td>\n",
       "      <td>2991.682216</td>\n",
       "      <td>6.298980</td>\n",
       "      <td>0.013289</td>\n",
       "      <td>19.241497</td>\n",
       "      <td>17.801263</td>\n",
       "      <td>4.682216</td>\n",
       "      <td>0.603013</td>\n",
       "      <td>0.603013</td>\n",
       "    </tr>\n",
       "    <tr>\n",
       "      <th>3</th>\n",
       "      <td>3.0</td>\n",
       "      <td>3142.212389</td>\n",
       "      <td>6.209735</td>\n",
       "      <td>0.008471</td>\n",
       "      <td>28.932422</td>\n",
       "      <td>26.302494</td>\n",
       "      <td>6.795656</td>\n",
       "      <td>0.586484</td>\n",
       "      <td>0.586484</td>\n",
       "    </tr>\n",
       "    <tr>\n",
       "      <th>4</th>\n",
       "      <td>4.0</td>\n",
       "      <td>3089.700758</td>\n",
       "      <td>6.353409</td>\n",
       "      <td>0.002436</td>\n",
       "      <td>38.740530</td>\n",
       "      <td>34.270833</td>\n",
       "      <td>8.846591</td>\n",
       "      <td>0.547348</td>\n",
       "      <td>0.547348</td>\n",
       "    </tr>\n",
       "    <tr>\n",
       "      <th>5</th>\n",
       "      <td>5.0</td>\n",
       "      <td>3467.223881</td>\n",
       "      <td>6.232836</td>\n",
       "      <td>0.015994</td>\n",
       "      <td>48.111940</td>\n",
       "      <td>41.686567</td>\n",
       "      <td>10.597015</td>\n",
       "      <td>0.552239</td>\n",
       "      <td>0.552239</td>\n",
       "    </tr>\n",
       "    <tr>\n",
       "      <th>6</th>\n",
       "      <td>6.0</td>\n",
       "      <td>4175.903226</td>\n",
       "      <td>6.009677</td>\n",
       "      <td>-0.018389</td>\n",
       "      <td>58.322581</td>\n",
       "      <td>49.645161</td>\n",
       "      <td>11.741935</td>\n",
       "      <td>0.580645</td>\n",
       "      <td>0.580645</td>\n",
       "    </tr>\n",
       "    <tr>\n",
       "      <th>7</th>\n",
       "      <td>7.0</td>\n",
       "      <td>1456.666667</td>\n",
       "      <td>5.666667</td>\n",
       "      <td>-0.038048</td>\n",
       "      <td>67.666667</td>\n",
       "      <td>57.000000</td>\n",
       "      <td>16.666667</td>\n",
       "      <td>0.666667</td>\n",
       "      <td>0.666667</td>\n",
       "    </tr>\n",
       "  </tbody>\n",
       "</table>\n",
       "</div>"
      ],
      "text/plain": [
       "   text_length_bin        index      rate  resultOfDetecting      words  \\\n",
       "0              0.0  2790.588517  6.277033           0.108541   3.387560   \n",
       "1              1.0  2979.084092  6.336154           0.026266   9.850027   \n",
       "2              2.0  2991.682216  6.298980           0.013289  19.241497   \n",
       "3              3.0  3142.212389  6.209735           0.008471  28.932422   \n",
       "4              4.0  3089.700758  6.353409           0.002436  38.740530   \n",
       "5              5.0  3467.223881  6.232836           0.015994  48.111940   \n",
       "6              6.0  4175.903226  6.009677          -0.018389  58.322581   \n",
       "7              7.0  1456.666667  5.666667          -0.038048  67.666667   \n",
       "\n",
       "   wordsAfterLemmatisation  wordsFound  correct_guess     score  \n",
       "0                 3.306220    1.291866       0.684211  0.684211  \n",
       "1                 9.372255    2.693626       0.580611  0.580611  \n",
       "2                17.801263    4.682216       0.603013  0.603013  \n",
       "3                26.302494    6.795656       0.586484  0.586484  \n",
       "4                34.270833    8.846591       0.547348  0.547348  \n",
       "5                41.686567   10.597015       0.552239  0.552239  \n",
       "6                49.645161   11.741935       0.580645  0.580645  \n",
       "7                57.000000   16.666667       0.666667  0.666667  "
      ]
     },
     "execution_count": 54,
     "metadata": {},
     "output_type": "execute_result"
    }
   ],
   "source": [
    "grouped"
   ]
  },
  {
   "cell_type": "code",
   "execution_count": 55,
   "metadata": {},
   "outputs": [],
   "source": [
    "def createPlotRates(result_df):\n",
    "    # data to plot\n",
    "    result_df = result_df.round({'rate': 0})\n",
    "    n_groups = result_df.rate.max()\n",
    "    \n",
    "    grouped = result_df.groupby('rate', as_index=False).mean()\n",
    "    means_words = grouped.words/grouped.words\n",
    "    means_lemmatisation = grouped.wordsAfterLemmatisation/grouped.words\n",
    "    means_emotions = grouped.wordsFound/grouped.words\n",
    "\n",
    "    # create plot\n",
    "    fig, ax = plt.subplots()\n",
    "    index = np.arange(len(grouped))\n",
    "    bar_width = 0.35\n",
    "    opacity = 0.5\n",
    "\n",
    "    rects1 = plt.bar(index, means_words, bar_width,\n",
    "                 alpha=opacity,\n",
    "                 color='b')\n",
    "\n",
    "    rects2 = plt.bar(index, means_lemmatisation, bar_width,\n",
    "                 alpha=opacity,\n",
    "                 color='g')\n",
    "    \n",
    "    rects2 = plt.bar(index, means_emotions, bar_width,\n",
    "                 alpha=opacity,\n",
    "                 color='c')\n",
    "\n",
    "    plt.xlabel('Rates')\n",
    "    plt.ylabel('Percent')\n",
    "    #plt.title('Scores by person')\n",
    "    plt.xticks(index, ('1', '2', '3', '4', '5', '6', '7', '8', '9', '10'))\n",
    "    plt.legend()\n",
    "\n",
    "    plt.tight_layout()\n",
    "    plt.show()"
   ]
  },
  {
   "cell_type": "code",
   "execution_count": 56,
   "metadata": {},
   "outputs": [],
   "source": [
    "def createPlotByScore(data):\n",
    "    grouped = data.groupby('words', as_index=False)['score'].mean()\n",
    "    fig, ax = plt.subplots()\n",
    "    x = grouped.words\n",
    "    y = grouped.score\n",
    "    fit = np.polyfit(x, y, deg=1)\n",
    "    ax.plot(x, fit[0] * x + fit[1], color='red')\n",
    "    ax.scatter(x, y)\n",
    "    \n",
    "    plt.xlabel('Lenght of text')\n",
    "    plt.ylabel('Efficacy')\n",
    "    \n",
    "    fig.show()"
   ]
  },
  {
   "cell_type": "code",
   "execution_count": 57,
   "metadata": {},
   "outputs": [],
   "source": [
    "#zaleznosc oceny od wykrytej emocji\n",
    "def createPlotByRate(data):\n",
    "    data = data.round({'rate': 0})   \n",
    "    grouped = data.groupby('rate', as_index=False)['score'].mean()\n",
    "    fig, ax = plt.subplots()\n",
    "    x = grouped.rate\n",
    "    y = grouped.score\n",
    "    fit = np.polyfit(x, y, deg=1)\n",
    "    ax.plot(x, fit[0] * x + fit[1], color='red')\n",
    "    ax.scatter(x, y)\n",
    "    \n",
    "    plt.xlabel('Rate')\n",
    "    plt.ylabel('Efficacy')\n",
    "\n",
    "    fig.show()"
   ]
  },
  {
   "cell_type": "code",
   "execution_count": 58,
   "metadata": {},
   "outputs": [],
   "source": [
    "def createPlotByWordsFound(result):\n",
    "    grouped = result.groupby('wordsFound', as_index=False)['score'].mean()\n",
    "    fig, ax = plt.subplots()\n",
    "    x = grouped.wordsFound\n",
    "    y = grouped.score\n",
    "    fit = np.polyfit(x, y, deg=1)\n",
    "    ax.plot(x, fit[0] * x + fit[1], color='red')\n",
    "    ax.scatter(x, y)\n",
    "\n",
    "    plt.xlabel('Found words in Slowosiec')\n",
    "    plt.ylabel('Efficacy')\n",
    "    \n",
    "    fig.show()"
   ]
  },
  {
   "cell_type": "code",
   "execution_count": 59,
   "metadata": {},
   "outputs": [],
   "source": [
    "def changeRangeOfComments(maximumNegativeRate, mimimumPositiveRate, comments):\n",
    "    comments = comments[(comments.rate <= maximumNegativeRate) | (comments.rate >= mimimumPositiveRate)]\n",
    "    comments = comments.reset_index()\n",
    "    return comments"
   ]
  },
  {
   "cell_type": "code",
   "execution_count": 12,
   "metadata": {},
   "outputs": [],
   "source": [
    "def getResults(result_df):\n",
    "    return result_df.groupby('correct_guess').size()"
   ]
  },
  {
   "cell_type": "code",
   "execution_count": 61,
   "metadata": {},
   "outputs": [
    {
     "name": "stderr",
     "output_type": "stream",
     "text": [
      "/anaconda2/lib/python2.7/site-packages/matplotlib/figure.py:418: UserWarning: matplotlib is currently using a non-GUI backend, so cannot show the figure\n",
      "  \"matplotlib is currently using a non-GUI backend, \"\n"
     ]
    },
    {
     "data": {
      "image/png": "[encoded data removed]",
      "text/plain": [
       "<matplotlib.figure.Figure at 0x11b250750>"
      ]
     },
     "metadata": {},
     "output_type": "display_data"
    }
   ],
   "source": [
    "createPlotByScore(result_df)"
   ]
  },
  {
   "cell_type": "code",
   "execution_count": 186,
   "metadata": {},
   "outputs": [
    {
     "data": {
      "image/png": "[encoded data removed]",
      "text/plain": [
       "<matplotlib.figure.Figure at 0x10b89f8d0>"
      ]
     },
     "metadata": {},
     "output_type": "display_data"
    }
   ],
   "source": [
    "createPlotByRate(result_df)"
   ]
  },
  {
   "cell_type": "code",
   "execution_count": 62,
   "metadata": {},
   "outputs": [
    {
     "data": {
      "image/png": "[encoded data removed]",
      "text/plain": [
       "<matplotlib.figure.Figure at 0x11b79ec50>"
      ]
     },
     "metadata": {},
     "output_type": "display_data"
    }
   ],
   "source": [
    "createPlotByWordsFound(result_df)"
   ]
  },
  {
   "cell_type": "code",
   "execution_count": 188,
   "metadata": {},
   "outputs": [
    {
     "data": {
      "text/plain": [
       "correct_guess\n",
       "False    173\n",
       "True     146\n",
       "dtype: int64"
      ]
     },
     "execution_count": 188,
     "metadata": {},
     "output_type": "execute_result"
    }
   ],
   "source": [
    "getResults(result_df)"
   ]
  },
  {
   "cell_type": "code",
   "execution_count": null,
   "metadata": {},
   "outputs": [],
   "source": []
  },
  {
   "cell_type": "code",
   "execution_count": 48,
   "metadata": {},
   "outputs": [],
   "source": [
    "result_df = prepereDataForPlot(result_df)"
   ]
  },
  {
   "cell_type": "code",
   "execution_count": 60,
   "metadata": {},
   "outputs": [
    {
     "data": {
      "image/png": "[encoded data removed]",
      "text/plain": [
       "<matplotlib.figure.Figure at 0x11b064450>"
      ]
     },
     "metadata": {},
     "output_type": "display_data"
    }
   ],
   "source": [
    "createPlotRates(result_df)"
   ]
  },
  {
   "cell_type": "code",
   "execution_count": 63,
   "metadata": {},
   "outputs": [],
   "source": [
    "def devide(number):\n",
    "    return number/2\n",
    "\n",
    "def moreThenHalf(result_df):\n",
    "    result_df['half_wordsAfterLemmatisation'] = map(devide, result_df['wordsAfterLemmatisation'])\n",
    "    result_df['moreThenHalf'] = 0\n",
    "    result_df['moreThenHalf'] = np.where(((result_df['wordsFound'] >= result_df['half_wordsAfterLemmatisation']) & (result_df['half_wordsAfterLemmatisation'] > 0) & (result_df['wordsFound'] > 0)), 1 , 0)\n",
    "    return result_df"
   ]
  },
  {
   "cell_type": "code",
   "execution_count": 64,
   "metadata": {},
   "outputs": [
    {
     "name": "stderr",
     "output_type": "stream",
     "text": [
      "/anaconda2/lib/python2.7/site-packages/ipykernel_launcher.py:4: SettingWithCopyWarning: \n",
      "A value is trying to be set on a copy of a slice from a DataFrame.\n",
      "Try using .loc[row_indexer,col_indexer] = value instead\n",
      "\n",
      "See the caveats in the documentation: http://pandas.pydata.org/pandas-docs/stable/indexing.html#indexing-view-versus-copy\n",
      "  after removing the cwd from sys.path.\n"
     ]
    },
    {
     "data": {
      "text/plain": [
       "correct_guess\n",
       "False    100\n",
       "True     300\n",
       "dtype: int64"
      ]
     },
     "execution_count": 64,
     "metadata": {},
     "output_type": "execute_result"
    }
   ],
   "source": [
    "tym = moreThenHalf(result_df)\n",
    "tym.groupby('moreThenHalf').size()\n",
    "review_less = tym.loc[tym['moreThenHalf'] == 1]\n",
    "review_less['correct_guess'] = review_less['detectedEmotion'] == review_less['emotion']\n",
    "review_less.groupby('correct_guess').size()"
   ]
  },
  {
   "cell_type": "code",
   "execution_count": 65,
   "metadata": {},
   "outputs": [],
   "source": [
    "result = result_df.round({'rate': 0})\n",
    "grouped = result.groupby('rate', as_index=False).mean()"
   ]
  },
  {
   "cell_type": "code",
   "execution_count": 66,
   "metadata": {},
   "outputs": [
    {
     "data": {
      "text/html": [
       "<div>\n",
       "<style scoped>\n",
       "    .dataframe tbody tr th:only-of-type {\n",
       "        vertical-align: middle;\n",
       "    }\n",
       "\n",
       "    .dataframe tbody tr th {\n",
       "        vertical-align: top;\n",
       "    }\n",
       "\n",
       "    .dataframe thead th {\n",
       "        text-align: right;\n",
       "    }\n",
       "</style>\n",
       "<table border=\"1\" class=\"dataframe\">\n",
       "  <thead>\n",
       "    <tr style=\"text-align: right;\">\n",
       "      <th></th>\n",
       "      <th>rate</th>\n",
       "      <th>index</th>\n",
       "      <th>resultOfDetecting</th>\n",
       "      <th>words</th>\n",
       "      <th>wordsAfterLemmatisation</th>\n",
       "      <th>wordsFound</th>\n",
       "      <th>correct_guess</th>\n",
       "      <th>score</th>\n",
       "      <th>text_length_bin</th>\n",
       "      <th>half_wordsAfterLemmatisation</th>\n",
       "      <th>moreThenHalf</th>\n",
       "    </tr>\n",
       "  </thead>\n",
       "  <tbody>\n",
       "    <tr>\n",
       "      <th>0</th>\n",
       "      <td>0.0</td>\n",
       "      <td>3165.333333</td>\n",
       "      <td>-0.177073</td>\n",
       "      <td>10.166667</td>\n",
       "      <td>9.833333</td>\n",
       "      <td>3.166667</td>\n",
       "      <td>0.833333</td>\n",
       "      <td>0.833333</td>\n",
       "      <td>1.000000</td>\n",
       "      <td>4.916667</td>\n",
       "      <td>0.000000</td>\n",
       "    </tr>\n",
       "    <tr>\n",
       "      <th>1</th>\n",
       "      <td>1.0</td>\n",
       "      <td>3879.979592</td>\n",
       "      <td>-0.092859</td>\n",
       "      <td>16.142857</td>\n",
       "      <td>14.632653</td>\n",
       "      <td>3.979592</td>\n",
       "      <td>0.775510</td>\n",
       "      <td>0.775510</td>\n",
       "      <td>1.714286</td>\n",
       "      <td>7.316327</td>\n",
       "      <td>0.183673</td>\n",
       "    </tr>\n",
       "    <tr>\n",
       "      <th>2</th>\n",
       "      <td>2.0</td>\n",
       "      <td>3065.756944</td>\n",
       "      <td>-0.117645</td>\n",
       "      <td>18.451389</td>\n",
       "      <td>16.673611</td>\n",
       "      <td>4.208333</td>\n",
       "      <td>0.812500</td>\n",
       "      <td>0.812500</td>\n",
       "      <td>1.930556</td>\n",
       "      <td>8.336806</td>\n",
       "      <td>0.069444</td>\n",
       "    </tr>\n",
       "    <tr>\n",
       "      <th>3</th>\n",
       "      <td>3.0</td>\n",
       "      <td>3004.479784</td>\n",
       "      <td>-0.079762</td>\n",
       "      <td>20.102426</td>\n",
       "      <td>18.156334</td>\n",
       "      <td>4.628032</td>\n",
       "      <td>0.778976</td>\n",
       "      <td>0.778976</td>\n",
       "      <td>2.064690</td>\n",
       "      <td>9.078167</td>\n",
       "      <td>0.059299</td>\n",
       "    </tr>\n",
       "    <tr>\n",
       "      <th>4</th>\n",
       "      <td>4.0</td>\n",
       "      <td>3009.232143</td>\n",
       "      <td>-0.038359</td>\n",
       "      <td>20.188776</td>\n",
       "      <td>18.446429</td>\n",
       "      <td>4.698980</td>\n",
       "      <td>0.660714</td>\n",
       "      <td>0.660714</td>\n",
       "      <td>2.081633</td>\n",
       "      <td>9.223214</td>\n",
       "      <td>0.053571</td>\n",
       "    </tr>\n",
       "    <tr>\n",
       "      <th>5</th>\n",
       "      <td>5.0</td>\n",
       "      <td>2990.137705</td>\n",
       "      <td>-0.016827</td>\n",
       "      <td>21.045902</td>\n",
       "      <td>19.185792</td>\n",
       "      <td>4.794536</td>\n",
       "      <td>0.604372</td>\n",
       "      <td>0.604372</td>\n",
       "      <td>2.170492</td>\n",
       "      <td>9.592896</td>\n",
       "      <td>0.045902</td>\n",
       "    </tr>\n",
       "    <tr>\n",
       "      <th>6</th>\n",
       "      <td>6.0</td>\n",
       "      <td>3070.361963</td>\n",
       "      <td>0.015252</td>\n",
       "      <td>21.540900</td>\n",
       "      <td>19.776074</td>\n",
       "      <td>5.143149</td>\n",
       "      <td>0.482618</td>\n",
       "      <td>0.482618</td>\n",
       "      <td>2.212679</td>\n",
       "      <td>9.888037</td>\n",
       "      <td>0.044990</td>\n",
       "    </tr>\n",
       "    <tr>\n",
       "      <th>7</th>\n",
       "      <td>7.0</td>\n",
       "      <td>2979.779178</td>\n",
       "      <td>0.050589</td>\n",
       "      <td>20.578249</td>\n",
       "      <td>18.798408</td>\n",
       "      <td>5.065650</td>\n",
       "      <td>0.564324</td>\n",
       "      <td>0.564324</td>\n",
       "      <td>2.107427</td>\n",
       "      <td>9.399204</td>\n",
       "      <td>0.070955</td>\n",
       "    </tr>\n",
       "    <tr>\n",
       "      <th>8</th>\n",
       "      <td>8.0</td>\n",
       "      <td>3062.071203</td>\n",
       "      <td>0.058161</td>\n",
       "      <td>19.580696</td>\n",
       "      <td>17.958861</td>\n",
       "      <td>4.944620</td>\n",
       "      <td>0.572785</td>\n",
       "      <td>0.572785</td>\n",
       "      <td>2.014241</td>\n",
       "      <td>8.979430</td>\n",
       "      <td>0.087025</td>\n",
       "    </tr>\n",
       "    <tr>\n",
       "      <th>9</th>\n",
       "      <td>9.0</td>\n",
       "      <td>3157.515244</td>\n",
       "      <td>0.068980</td>\n",
       "      <td>19.829268</td>\n",
       "      <td>18.140244</td>\n",
       "      <td>5.152439</td>\n",
       "      <td>0.621951</td>\n",
       "      <td>0.621951</td>\n",
       "      <td>2.027439</td>\n",
       "      <td>9.070122</td>\n",
       "      <td>0.079268</td>\n",
       "    </tr>\n",
       "    <tr>\n",
       "      <th>10</th>\n",
       "      <td>10.0</td>\n",
       "      <td>3002.940678</td>\n",
       "      <td>0.064227</td>\n",
       "      <td>17.644068</td>\n",
       "      <td>15.855932</td>\n",
       "      <td>4.338983</td>\n",
       "      <td>0.576271</td>\n",
       "      <td>0.576271</td>\n",
       "      <td>1.796610</td>\n",
       "      <td>7.927966</td>\n",
       "      <td>0.076271</td>\n",
       "    </tr>\n",
       "  </tbody>\n",
       "</table>\n",
       "</div>"
      ],
      "text/plain": [
       "    rate        index  resultOfDetecting      words  wordsAfterLemmatisation  \\\n",
       "0    0.0  3165.333333          -0.177073  10.166667                 9.833333   \n",
       "1    1.0  3879.979592          -0.092859  16.142857                14.632653   \n",
       "2    2.0  3065.756944          -0.117645  18.451389                16.673611   \n",
       "3    3.0  3004.479784          -0.079762  20.102426                18.156334   \n",
       "4    4.0  3009.232143          -0.038359  20.188776                18.446429   \n",
       "5    5.0  2990.137705          -0.016827  21.045902                19.185792   \n",
       "6    6.0  3070.361963           0.015252  21.540900                19.776074   \n",
       "7    7.0  2979.779178           0.050589  20.578249                18.798408   \n",
       "8    8.0  3062.071203           0.058161  19.580696                17.958861   \n",
       "9    9.0  3157.515244           0.068980  19.829268                18.140244   \n",
       "10  10.0  3002.940678           0.064227  17.644068                15.855932   \n",
       "\n",
       "    wordsFound  correct_guess     score  text_length_bin  \\\n",
       "0     3.166667       0.833333  0.833333         1.000000   \n",
       "1     3.979592       0.775510  0.775510         1.714286   \n",
       "2     4.208333       0.812500  0.812500         1.930556   \n",
       "3     4.628032       0.778976  0.778976         2.064690   \n",
       "4     4.698980       0.660714  0.660714         2.081633   \n",
       "5     4.794536       0.604372  0.604372         2.170492   \n",
       "6     5.143149       0.482618  0.482618         2.212679   \n",
       "7     5.065650       0.564324  0.564324         2.107427   \n",
       "8     4.944620       0.572785  0.572785         2.014241   \n",
       "9     5.152439       0.621951  0.621951         2.027439   \n",
       "10    4.338983       0.576271  0.576271         1.796610   \n",
       "\n",
       "    half_wordsAfterLemmatisation  moreThenHalf  \n",
       "0                       4.916667      0.000000  \n",
       "1                       7.316327      0.183673  \n",
       "2                       8.336806      0.069444  \n",
       "3                       9.078167      0.059299  \n",
       "4                       9.223214      0.053571  \n",
       "5                       9.592896      0.045902  \n",
       "6                       9.888037      0.044990  \n",
       "7                       9.399204      0.070955  \n",
       "8                       8.979430      0.087025  \n",
       "9                       9.070122      0.079268  \n",
       "10                      7.927966      0.076271  "
      ]
     },
     "execution_count": 66,
     "metadata": {},
     "output_type": "execute_result"
    }
   ],
   "source": [
    "grouped"
   ]
  },
  {
   "cell_type": "code",
   "execution_count": 190,
   "metadata": {},
   "outputs": [
    {
     "data": {
      "text/plain": [
       "11.0"
      ]
     },
     "execution_count": 190,
     "metadata": {},
     "output_type": "execute_result"
    }
   ],
   "source": [
    "round(result_df['text_length_bin'].max())"
   ]
  },
  {
   "cell_type": "code",
   "execution_count": 38,
   "metadata": {},
   "outputs": [
    {
     "data": {
      "text/plain": [
       "correct_guess\n",
       "False    2493\n",
       "True     3580\n",
       "dtype: int64"
      ]
     },
     "execution_count": 38,
     "metadata": {},
     "output_type": "execute_result"
    }
   ],
   "source": [
    "result_df.groupby('correct_guess').size()"
   ]
  },
  {
   "cell_type": "code",
   "execution_count": null,
   "metadata": {},
   "outputs": [],
   "source": []
  }
 ],
 "metadata": {
  "kernelspec": {
   "display_name": "Python 2",
   "language": "python",
   "name": "python2"
  },
  "language_info": {
   "codemirror_mode": {
    "name": "ipython",
    "version": 2
   },
   "file_extension": ".py",
   "mimetype": "text/x-python",
   "name": "python",
   "nbconvert_exporter": "python",
   "pygments_lexer": "ipython2",
   "version": "2.7.14"
  }
 },
 "nbformat": 4,
 "nbformat_minor": 2
}

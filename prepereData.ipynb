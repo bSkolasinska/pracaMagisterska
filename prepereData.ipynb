{
 "cells": [
  {
   "cell_type": "code",
   "execution_count": 17,
   "metadata": {},
   "outputs": [],
   "source": [
    "import pandas as pd\n",
    "import os\n",
    "import sys\n",
    "module_path = os.path.abspath(os.path.join('/Users/balbi/Downloads/pyMorfologik-master'))\n",
    "if module_path not in sys.path:\n",
    "    sys.path.append(module_path)\n",
    "from pymorfologik import Morfologik\n",
    "from pymorfologik.parsing import ListParser\n",
    "\n",
    "import numpy as np\n",
    "import scipy as sp\n",
    "from __future__ import print_function\n",
    "import string\n",
    "\n",
    "import matplotlib.pyplot as plt\n",
    "%matplotlib inline"
   ]
  },
  {
   "cell_type": "code",
   "execution_count": 47,
   "metadata": {},
   "outputs": [],
   "source": [
    "result_df = pd.read_csv('mediaKrytyk-comments-analysis-dictParser-emotionsList.csv')\n",
    "result_df = result_df.reset_index()\n",
    "result_df.loc[result_df.detectedEmotion == 'neutral', 'detectedEmotion'] = \"negative\"\n",
    "result_df['correct_guess'] = result_df['detectedEmotion'] == result_df['emotion']"
   ]
  },
  {
   "cell_type": "code",
   "execution_count": 48,
   "metadata": {},
   "outputs": [],
   "source": [
    "def get_length(text):\n",
    "    return len(text)\n",
    "\n",
    "def get_length_bin(length):\n",
    "    return round(length / 10)\n",
    "\n",
    "def get_score(result):\n",
    "    return 1 if result else 0\n",
    "\n",
    "def prepereDataForPlot(result_df):\n",
    "    result_df['score'] = map(get_score, result_df['correct_guess'])\n",
    "    #create group with 10 elements\n",
    "    result_df['text_length_bin'] = map(get_length_bin, result_df['words'])    \n",
    "    return result_df"
   ]
  },
  {
   "cell_type": "code",
   "execution_count": 7,
   "metadata": {},
   "outputs": [],
   "source": [
    "def createPlotTextLength(result_df):\n",
    "    # data to plot\n",
    "    n_groups = round(result_df['text_length_bin'].max())\n",
    "    \n",
    "    grouped = result_df.groupby('text_length_bin', as_index=False).mean()\n",
    "    sum_elements = grouped.words\n",
    "    means_words = grouped.words/sum_elements\n",
    "    means_lemmatisation = grouped.wordsAfterLemmatisation/sum_elements\n",
    "    means_emotions = grouped.wordsFound/sum_elements\n",
    "\n",
    "    # create plot\n",
    "    fig, ax = plt.subplots()\n",
    "    index = np.arange(len(grouped))\n",
    "    bar_width = 0.35\n",
    "    opacity = 0.5\n",
    "\n",
    "    rects1 = plt.bar(index, means_words, bar_width,\n",
    "                 alpha=opacity,\n",
    "                 color='b')\n",
    "\n",
    "    rects2 = plt.bar(index, means_lemmatisation, bar_width,\n",
    "                 alpha=opacity,\n",
    "                 color='g')\n",
    "    \n",
    "    rects2 = plt.bar(index, means_emotions, bar_width,\n",
    "                 alpha=opacity,\n",
    "                 color='c')\n",
    "\n",
    "    plt.xlabel('Lenght of text')\n",
    "    plt.ylabel('Percent')\n",
    "    #plt.title('Scores by person')\n",
    "    plt.xticks(index, (0, 50, 100, 150, 200, 250, 300, 350, 400, 450))\n",
    "    plt.legend()\n",
    "\n",
    "    plt.tight_layout()\n",
    "    plt.show()"
   ]
  },
  {
   "cell_type": "code",
   "execution_count": 8,
   "metadata": {},
   "outputs": [],
   "source": [
    "def createPlotRates(result_df):\n",
    "    # data to plot\n",
    "    result_df = result_df.round({'rate': 0})\n",
    "    n_groups = result_df.rate.max()\n",
    "    \n",
    "    grouped = result_df.groupby('rate', as_index=False).mean()\n",
    "    means_words = grouped.words/grouped.words\n",
    "    means_lemmatisation = grouped.wordsAfterLemmatisation/grouped.words\n",
    "    means_emotions = grouped.wordsFound/grouped.words\n",
    "\n",
    "    # create plot\n",
    "    fig, ax = plt.subplots()\n",
    "    index = np.arange(len(grouped))\n",
    "    bar_width = 0.35\n",
    "    opacity = 0.5\n",
    "\n",
    "    rects1 = plt.bar(index, means_words, bar_width,\n",
    "                 alpha=opacity,\n",
    "                 color='b')\n",
    "\n",
    "    rects2 = plt.bar(index, means_lemmatisation, bar_width,\n",
    "                 alpha=opacity,\n",
    "                 color='g')\n",
    "    \n",
    "    rects2 = plt.bar(index, means_emotions, bar_width,\n",
    "                 alpha=opacity,\n",
    "                 color='c')\n",
    "\n",
    "    plt.xlabel('Rates')\n",
    "    plt.ylabel('Percent')\n",
    "    #plt.title('Scores by person')\n",
    "    plt.xticks(index, ('1', '2', '3', '4', '5'))\n",
    "    plt.legend()\n",
    "\n",
    "    plt.tight_layout()\n",
    "    plt.show()"
   ]
  },
  {
   "cell_type": "code",
   "execution_count": 9,
   "metadata": {},
   "outputs": [],
   "source": [
    "def createPlotByScore(data):\n",
    "    grouped = data.groupby('words', as_index=False)['score'].mean()\n",
    "    fig, ax = plt.subplots()\n",
    "    x = grouped.words\n",
    "    y = grouped.score\n",
    "    fit = np.polyfit(x, y, deg=1)\n",
    "    ax.plot(x, fit[0] * x + fit[1], color='red')\n",
    "    ax.scatter(x, y)\n",
    "    \n",
    "    plt.xlabel('Lenght of text')\n",
    "    plt.ylabel('Efficacy')\n",
    "    \n",
    "    fig.show()"
   ]
  },
  {
   "cell_type": "code",
   "execution_count": 10,
   "metadata": {},
   "outputs": [],
   "source": [
    "#zaleznosc oceny od wykrytej emocji\n",
    "def createPlotByRate(data):\n",
    "    data = data.round({'rate': 0})   \n",
    "    grouped = data.groupby('rate', as_index=False)['score'].mean()\n",
    "    fig, ax = plt.subplots()\n",
    "    x = grouped.rate\n",
    "    y = grouped.score\n",
    "    fit = np.polyfit(x, y, deg=1)\n",
    "    ax.plot(x, fit[0] * x + fit[1], color='red')\n",
    "    ax.scatter(x, y)\n",
    "    \n",
    "    plt.xlabel('Rate')\n",
    "    plt.ylabel('Efficacy')\n",
    "\n",
    "    fig.show()"
   ]
  },
  {
   "cell_type": "code",
   "execution_count": 60,
   "metadata": {},
   "outputs": [],
   "source": [
    "def createPlotByWordsFound(result):\n",
    "    grouped = result.groupby('wordsFound', as_index=False)['score'].mean()\n",
    "    fig, ax = plt.subplots()\n",
    "    x = grouped.wordsFound\n",
    "    y = grouped.score\n",
    "    fit = np.polyfit(x, y, deg=1)\n",
    "    ax.plot(x, fit[0] * x + fit[1], color='red')\n",
    "    ax.scatter(x, y)\n",
    "\n",
    "    plt.xlabel('Found words in Slowosiec')\n",
    "    plt.ylabel('Efficacy')\n",
    "    \n",
    "    fig.show()"
   ]
  },
  {
   "cell_type": "code",
   "execution_count": 12,
   "metadata": {},
   "outputs": [],
   "source": [
    "def changeRangeOfComments(maximumNegativeRate, mimimumPositiveRate, comments):\n",
    "    comments = comments[(comments.rate <= maximumNegativeRate) | (comments.rate >= mimimumPositiveRate)]\n",
    "    comments = comments.reset_index()\n",
    "    return comments"
   ]
  },
  {
   "cell_type": "code",
   "execution_count": 13,
   "metadata": {},
   "outputs": [],
   "source": [
    "def getResults(result_df):\n",
    "    return result_df.groupby('correct_guess').size()"
   ]
  },
  {
   "cell_type": "code",
   "execution_count": 14,
   "metadata": {},
   "outputs": [],
   "source": [
    "def changeRangeOfComments(maximumNegativeRate, mimimumPositiveRate, comments):\n",
    "    comments = comments[(comments.rate <= maximumNegativeRate) | (comments.rate >= mimimumPositiveRate)]\n",
    "    comments = comments.reset_index()\n",
    "    return comments"
   ]
  },
  {
   "cell_type": "code",
   "execution_count": 69,
   "metadata": {},
   "outputs": [
    {
     "data": {
      "image/png": "[encoded data removed]",
      "text/plain": [
       "<matplotlib.figure.Figure at 0x1100e01d0>"
      ]
     },
     "metadata": {},
     "output_type": "display_data"
    }
   ],
   "source": [
    "createPlotByScore(result_df)"
   ]
  },
  {
   "cell_type": "code",
   "execution_count": 70,
   "metadata": {},
   "outputs": [
    {
     "data": {
      "image/png": "[encoded data removed]",
      "text/plain": [
       "<matplotlib.figure.Figure at 0x10d7de190>"
      ]
     },
     "metadata": {},
     "output_type": "display_data"
    }
   ],
   "source": [
    "createPlotByRate(result_df)"
   ]
  },
  {
   "cell_type": "code",
   "execution_count": 61,
   "metadata": {},
   "outputs": [
    {
     "name": "stderr",
     "output_type": "stream",
     "text": [
      "/anaconda2/lib/python2.7/site-packages/matplotlib/figure.py:418: UserWarning: matplotlib is currently using a non-GUI backend, so cannot show the figure\n",
      "  \"matplotlib is currently using a non-GUI backend, \"\n"
     ]
    },
    {
     "data": {
      "image/png": "[encoded data removed]",
      "text/plain": [
       "<matplotlib.figure.Figure at 0x10945ac90>"
      ]
     },
     "metadata": {},
     "output_type": "display_data"
    }
   ],
   "source": [
    "createPlotByWordsFound(result_df)"
   ]
  },
  {
   "cell_type": "code",
   "execution_count": 16,
   "metadata": {},
   "outputs": [
    {
     "data": {
      "text/plain": [
       "correct_guess\n",
       "False    6622\n",
       "True     6199\n",
       "dtype: int64"
      ]
     },
     "execution_count": 16,
     "metadata": {},
     "output_type": "execute_result"
    }
   ],
   "source": [
    "getResults(result_df)"
   ]
  },
  {
   "cell_type": "code",
   "execution_count": 49,
   "metadata": {},
   "outputs": [],
   "source": [
    "result_df = prepereDataForPlot(result_df)"
   ]
  },
  {
   "cell_type": "code",
   "execution_count": 72,
   "metadata": {},
   "outputs": [
    {
     "data": {
      "image/png": "[encoded data removed]",
      "text/plain": [
       "<matplotlib.figure.Figure at 0x10ed6e410>"
      ]
     },
     "metadata": {},
     "output_type": "display_data"
    }
   ],
   "source": [
    "createPlotRates(result_df)"
   ]
  },
  {
   "cell_type": "code",
   "execution_count": 73,
   "metadata": {},
   "outputs": [
    {
     "data": {
      "image/png": "[encoded data removed]",
      "text/plain": [
       "<matplotlib.figure.Figure at 0x10ed91c50>"
      ]
     },
     "metadata": {},
     "output_type": "display_data"
    }
   ],
   "source": [
    "createPlotTextLength(result_df)"
   ]
  },
  {
   "cell_type": "code",
   "execution_count": 74,
   "metadata": {},
   "outputs": [],
   "source": [
    "def devide(number):\n",
    "    return number/2\n",
    "\n",
    "def moreThenHalf(result_df):\n",
    "    result_df['half_wordsAfterLemmatisation'] = map(devide, result_df['wordsAfterLemmatisation'])\n",
    "    result_df['moreThenHalf'] = 0\n",
    "    result_df['moreThenHalf'] = np.where(((result_df['wordsFound'] >= result_df['half_wordsAfterLemmatisation']) & (result_df['half_wordsAfterLemmatisation'] > 0) & (result_df['wordsFound'] > 0)), 1 , 0)\n",
    "    return result_df"
   ]
  },
  {
   "cell_type": "code",
   "execution_count": 75,
   "metadata": {},
   "outputs": [
    {
     "name": "stderr",
     "output_type": "stream",
     "text": [
      "/anaconda2/lib/python2.7/site-packages/ipykernel_launcher.py:4: SettingWithCopyWarning: \n",
      "A value is trying to be set on a copy of a slice from a DataFrame.\n",
      "Try using .loc[row_indexer,col_indexer] = value instead\n",
      "\n",
      "See the caveats in the documentation: http://pandas.pydata.org/pandas-docs/stable/indexing.html#indexing-view-versus-copy\n",
      "  after removing the cwd from sys.path.\n"
     ]
    },
    {
     "data": {
      "text/plain": [
       "correct_guess\n",
       "False     18\n",
       "True     121\n",
       "dtype: int64"
      ]
     },
     "execution_count": 75,
     "metadata": {},
     "output_type": "execute_result"
    }
   ],
   "source": [
    "tym = moreThenHalf(result_df)\n",
    "tym.groupby('moreThenHalf').size()\n",
    "review_less = tym.loc[tym['moreThenHalf'] == 1]\n",
    "review_less['correct_guess'] = review_less['detectedEmotion'] == review_less['emotion']\n",
    "review_less.groupby('correct_guess').size()"
   ]
  },
  {
   "cell_type": "code",
   "execution_count": 76,
   "metadata": {},
   "outputs": [],
   "source": [
    "result = result_df.round({'rate': 0})\n",
    "grouped = result.groupby('rate', as_index=False).mean()"
   ]
  },
  {
   "cell_type": "code",
   "execution_count": 78,
   "metadata": {
    "scrolled": true
   },
   "outputs": [
    {
     "data": {
      "text/html": [
       "<div>\n",
       "<style scoped>\n",
       "    .dataframe tbody tr th:only-of-type {\n",
       "        vertical-align: middle;\n",
       "    }\n",
       "\n",
       "    .dataframe tbody tr th {\n",
       "        vertical-align: top;\n",
       "    }\n",
       "\n",
       "    .dataframe thead th {\n",
       "        text-align: right;\n",
       "    }\n",
       "</style>\n",
       "<table border=\"1\" class=\"dataframe\">\n",
       "  <thead>\n",
       "    <tr style=\"text-align: right;\">\n",
       "      <th></th>\n",
       "      <th>rate</th>\n",
       "      <th>level_0</th>\n",
       "      <th>index</th>\n",
       "      <th>resultOfDetecting</th>\n",
       "      <th>words</th>\n",
       "      <th>wordsAfterLemmatisation</th>\n",
       "      <th>wordsFound</th>\n",
       "      <th>correct_guess</th>\n",
       "      <th>score</th>\n",
       "      <th>text_length_bin</th>\n",
       "      <th>half_wordsAfterLemmatisation</th>\n",
       "      <th>moreThenHalf</th>\n",
       "    </tr>\n",
       "  </thead>\n",
       "  <tbody>\n",
       "    <tr>\n",
       "      <th>0</th>\n",
       "      <td>1.0</td>\n",
       "      <td>4724.431111</td>\n",
       "      <td>2189.871111</td>\n",
       "      <td>-0.055613</td>\n",
       "      <td>39.124444</td>\n",
       "      <td>31.973333</td>\n",
       "      <td>6.817778</td>\n",
       "      <td>0.804444</td>\n",
       "      <td>0.804444</td>\n",
       "      <td>4.240000</td>\n",
       "      <td>15.986667</td>\n",
       "      <td>0.004444</td>\n",
       "    </tr>\n",
       "    <tr>\n",
       "      <th>1</th>\n",
       "      <td>2.0</td>\n",
       "      <td>4300.696154</td>\n",
       "      <td>2048.365385</td>\n",
       "      <td>-0.028261</td>\n",
       "      <td>40.303846</td>\n",
       "      <td>33.642308</td>\n",
       "      <td>7.588462</td>\n",
       "      <td>0.661538</td>\n",
       "      <td>0.661538</td>\n",
       "      <td>4.380769</td>\n",
       "      <td>16.821154</td>\n",
       "      <td>0.003846</td>\n",
       "    </tr>\n",
       "    <tr>\n",
       "      <th>2</th>\n",
       "      <td>3.0</td>\n",
       "      <td>4049.860656</td>\n",
       "      <td>2001.672131</td>\n",
       "      <td>-0.001157</td>\n",
       "      <td>37.251366</td>\n",
       "      <td>31.101093</td>\n",
       "      <td>7.453552</td>\n",
       "      <td>0.542350</td>\n",
       "      <td>0.542350</td>\n",
       "      <td>4.000000</td>\n",
       "      <td>15.550546</td>\n",
       "      <td>0.001366</td>\n",
       "    </tr>\n",
       "    <tr>\n",
       "      <th>3</th>\n",
       "      <td>4.0</td>\n",
       "      <td>3766.624933</td>\n",
       "      <td>1916.766325</td>\n",
       "      <td>0.065841</td>\n",
       "      <td>32.963303</td>\n",
       "      <td>28.033459</td>\n",
       "      <td>7.333513</td>\n",
       "      <td>0.701565</td>\n",
       "      <td>0.701565</td>\n",
       "      <td>3.500270</td>\n",
       "      <td>14.016730</td>\n",
       "      <td>0.016190</td>\n",
       "    </tr>\n",
       "    <tr>\n",
       "      <th>4</th>\n",
       "      <td>5.0</td>\n",
       "      <td>3067.703040</td>\n",
       "      <td>1578.912705</td>\n",
       "      <td>0.091317</td>\n",
       "      <td>31.517537</td>\n",
       "      <td>26.588984</td>\n",
       "      <td>7.326578</td>\n",
       "      <td>0.771369</td>\n",
       "      <td>0.771369</td>\n",
       "      <td>3.338529</td>\n",
       "      <td>13.294492</td>\n",
       "      <td>0.027540</td>\n",
       "    </tr>\n",
       "  </tbody>\n",
       "</table>\n",
       "</div>"
      ],
      "text/plain": [
       "   rate      level_0        index  resultOfDetecting      words  \\\n",
       "0   1.0  4724.431111  2189.871111          -0.055613  39.124444   \n",
       "1   2.0  4300.696154  2048.365385          -0.028261  40.303846   \n",
       "2   3.0  4049.860656  2001.672131          -0.001157  37.251366   \n",
       "3   4.0  3766.624933  1916.766325           0.065841  32.963303   \n",
       "4   5.0  3067.703040  1578.912705           0.091317  31.517537   \n",
       "\n",
       "   wordsAfterLemmatisation  wordsFound  correct_guess     score  \\\n",
       "0                31.973333    6.817778       0.804444  0.804444   \n",
       "1                33.642308    7.588462       0.661538  0.661538   \n",
       "2                31.101093    7.453552       0.542350  0.542350   \n",
       "3                28.033459    7.333513       0.701565  0.701565   \n",
       "4                26.588984    7.326578       0.771369  0.771369   \n",
       "\n",
       "   text_length_bin  half_wordsAfterLemmatisation  moreThenHalf  \n",
       "0         4.240000                     15.986667      0.004444  \n",
       "1         4.380769                     16.821154      0.003846  \n",
       "2         4.000000                     15.550546      0.001366  \n",
       "3         3.500270                     14.016730      0.016190  \n",
       "4         3.338529                     13.294492      0.027540  "
      ]
     },
     "execution_count": 78,
     "metadata": {},
     "output_type": "execute_result"
    }
   ],
   "source": [
    "grouped"
   ]
  },
  {
   "cell_type": "code",
   "execution_count": 115,
   "metadata": {},
   "outputs": [],
   "source": [
    "newresult = changeRangeOfComments(4, 8, result_df)"
   ]
  },
  {
   "cell_type": "code",
   "execution_count": 116,
   "metadata": {},
   "outputs": [
    {
     "data": {
      "text/plain": [
       "correct_guess\n",
       "False     886\n",
       "True     1596\n",
       "dtype: int64"
      ]
     },
     "execution_count": 116,
     "metadata": {},
     "output_type": "execute_result"
    }
   ],
   "source": [
    "getResults(newresult)"
   ]
  },
  {
   "cell_type": "code",
   "execution_count": 118,
   "metadata": {},
   "outputs": [
    {
     "data": {
      "text/plain": [
       "64"
      ]
     },
     "execution_count": 118,
     "metadata": {},
     "output_type": "execute_result"
    }
   ],
   "source": [
    "len(newresult.loc[newresult['correct_guess'] == True])*100/len(newresult)"
   ]
  },
  {
   "cell_type": "code",
   "execution_count": 4,
   "metadata": {},
   "outputs": [
    {
     "data": {
      "text/plain": [
       "12821"
      ]
     },
     "execution_count": 4,
     "metadata": {},
     "output_type": "execute_result"
    }
   ],
   "source": [
    "len(result_df)"
   ]
  },
  {
   "cell_type": "code",
   "execution_count": 29,
   "metadata": {},
   "outputs": [],
   "source": [
    "grouped = result_df.groupby('text_length_bin', as_index=False).mean()"
   ]
  },
  {
   "cell_type": "code",
   "execution_count": 30,
   "metadata": {},
   "outputs": [
    {
     "data": {
      "text/html": [
       "<div>\n",
       "<style scoped>\n",
       "    .dataframe tbody tr th:only-of-type {\n",
       "        vertical-align: middle;\n",
       "    }\n",
       "\n",
       "    .dataframe tbody tr th {\n",
       "        vertical-align: top;\n",
       "    }\n",
       "\n",
       "    .dataframe thead th {\n",
       "        text-align: right;\n",
       "    }\n",
       "</style>\n",
       "<table border=\"1\" class=\"dataframe\">\n",
       "  <thead>\n",
       "    <tr style=\"text-align: right;\">\n",
       "      <th></th>\n",
       "      <th>text_length_bin</th>\n",
       "      <th>index</th>\n",
       "      <th>rate</th>\n",
       "      <th>resultOfDetecting</th>\n",
       "      <th>words</th>\n",
       "      <th>wordsAfterLemmatisation</th>\n",
       "      <th>wordsFound</th>\n",
       "      <th>correct_guess</th>\n",
       "      <th>score</th>\n",
       "    </tr>\n",
       "  </thead>\n",
       "  <tbody>\n",
       "    <tr>\n",
       "      <th>0</th>\n",
       "      <td>0.0</td>\n",
       "      <td>3842.000000</td>\n",
       "      <td>4.000000</td>\n",
       "      <td>0.000000</td>\n",
       "      <td>1.000000</td>\n",
       "      <td>1.000000</td>\n",
       "      <td>0.000000</td>\n",
       "      <td>0.000000</td>\n",
       "      <td>0.000000</td>\n",
       "    </tr>\n",
       "    <tr>\n",
       "      <th>1</th>\n",
       "      <td>1.0</td>\n",
       "      <td>1807.955752</td>\n",
       "      <td>4.637168</td>\n",
       "      <td>0.161356</td>\n",
       "      <td>13.168142</td>\n",
       "      <td>11.548673</td>\n",
       "      <td>3.893805</td>\n",
       "      <td>0.761062</td>\n",
       "      <td>0.761062</td>\n",
       "    </tr>\n",
       "    <tr>\n",
       "      <th>2</th>\n",
       "      <td>2.0</td>\n",
       "      <td>1939.712853</td>\n",
       "      <td>4.412944</td>\n",
       "      <td>0.092230</td>\n",
       "      <td>19.468551</td>\n",
       "      <td>17.262534</td>\n",
       "      <td>4.824066</td>\n",
       "      <td>0.711030</td>\n",
       "      <td>0.711030</td>\n",
       "    </tr>\n",
       "    <tr>\n",
       "      <th>3</th>\n",
       "      <td>3.0</td>\n",
       "      <td>1972.709677</td>\n",
       "      <td>4.262097</td>\n",
       "      <td>0.055038</td>\n",
       "      <td>29.263441</td>\n",
       "      <td>25.434140</td>\n",
       "      <td>6.692204</td>\n",
       "      <td>0.659946</td>\n",
       "      <td>0.659946</td>\n",
       "    </tr>\n",
       "    <tr>\n",
       "      <th>4</th>\n",
       "      <td>4.0</td>\n",
       "      <td>1861.604341</td>\n",
       "      <td>4.105175</td>\n",
       "      <td>0.042250</td>\n",
       "      <td>39.242070</td>\n",
       "      <td>33.268781</td>\n",
       "      <td>8.580968</td>\n",
       "      <td>0.664441</td>\n",
       "      <td>0.664441</td>\n",
       "    </tr>\n",
       "    <tr>\n",
       "      <th>5</th>\n",
       "      <td>5.0</td>\n",
       "      <td>1926.154734</td>\n",
       "      <td>3.735951</td>\n",
       "      <td>0.016874</td>\n",
       "      <td>45.000000</td>\n",
       "      <td>36.891455</td>\n",
       "      <td>8.802925</td>\n",
       "      <td>0.569669</td>\n",
       "      <td>0.569669</td>\n",
       "    </tr>\n",
       "  </tbody>\n",
       "</table>\n",
       "</div>"
      ],
      "text/plain": [
       "   text_length_bin        index      rate  resultOfDetecting      words  \\\n",
       "0              0.0  3842.000000  4.000000           0.000000   1.000000   \n",
       "1              1.0  1807.955752  4.637168           0.161356  13.168142   \n",
       "2              2.0  1939.712853  4.412944           0.092230  19.468551   \n",
       "3              3.0  1972.709677  4.262097           0.055038  29.263441   \n",
       "4              4.0  1861.604341  4.105175           0.042250  39.242070   \n",
       "5              5.0  1926.154734  3.735951           0.016874  45.000000   \n",
       "\n",
       "   wordsAfterLemmatisation  wordsFound  correct_guess     score  \n",
       "0                 1.000000    0.000000       0.000000  0.000000  \n",
       "1                11.548673    3.893805       0.761062  0.761062  \n",
       "2                17.262534    4.824066       0.711030  0.711030  \n",
       "3                25.434140    6.692204       0.659946  0.659946  \n",
       "4                33.268781    8.580968       0.664441  0.664441  \n",
       "5                36.891455    8.802925       0.569669  0.569669  "
      ]
     },
     "execution_count": 30,
     "metadata": {},
     "output_type": "execute_result"
    }
   ],
   "source": [
    "grouped"
   ]
  },
  {
   "cell_type": "code",
   "execution_count": 18,
   "metadata": {},
   "outputs": [],
   "source": [
    "import scipy\n",
    "from scipy.stats import pearsonr\n",
    "\n",
    "x = scipy.array(result_df['words'])\n",
    "y = scipy.array(result_df['score'])\n",
    "\n",
    "r_row, p_value = pearsonr(x, y)"
   ]
  },
  {
   "cell_type": "code",
   "execution_count": 19,
   "metadata": {},
   "outputs": [
    {
     "data": {
      "text/plain": [
       "0.028358469396456826"
      ]
     },
     "execution_count": 19,
     "metadata": {},
     "output_type": "execute_result"
    }
   ],
   "source": [
    "r_row #bardzo slaba koleracja"
   ]
  },
  {
   "cell_type": "code",
   "execution_count": 20,
   "metadata": {},
   "outputs": [
    {
     "data": {
      "text/plain": [
       "0.0013210919955126685"
      ]
     },
     "execution_count": 20,
     "metadata": {},
     "output_type": "execute_result"
    }
   ],
   "source": [
    "p_value"
   ]
  },
  {
   "cell_type": "code",
   "execution_count": 21,
   "metadata": {},
   "outputs": [],
   "source": [
    "import scipy\n",
    "from scipy.stats import pearsonr\n",
    "\n",
    "x = scipy.array(result_df['wordsFound'])\n",
    "y = scipy.array(result_df['score'])\n",
    "\n",
    "r_row, p_value = pearsonr(x, y)"
   ]
  },
  {
   "cell_type": "code",
   "execution_count": 22,
   "metadata": {},
   "outputs": [
    {
     "data": {
      "text/plain": [
       "0.05763162864837353"
      ]
     },
     "execution_count": 22,
     "metadata": {},
     "output_type": "execute_result"
    }
   ],
   "source": [
    "r_row"
   ]
  },
  {
   "cell_type": "code",
   "execution_count": 30,
   "metadata": {},
   "outputs": [],
   "source": [
    "import numpy as np\n",
    "\n",
    "test = np.corrcoef(result_df['score'],result_df['wordsFound'])"
   ]
  },
  {
   "cell_type": "code",
   "execution_count": 31,
   "metadata": {},
   "outputs": [
    {
     "data": {
      "text/plain": [
       "array([[1.        , 0.05763163],\n",
       "       [0.05763163, 1.        ]])"
      ]
     },
     "execution_count": 31,
     "metadata": {},
     "output_type": "execute_result"
    }
   ],
   "source": [
    "test"
   ]
  },
  {
   "cell_type": "code",
   "execution_count": 37,
   "metadata": {},
   "outputs": [
    {
     "data": {
      "text/plain": [
       "<matplotlib.image.AxesImage at 0x1a19033dd0>"
      ]
     },
     "execution_count": 37,
     "metadata": {},
     "output_type": "execute_result"
    },
    {
     "data": {
      "image/png": "[encoded data removed]",
      "text/plain": [
       "<matplotlib.figure.Figure at 0x10e872b50>"
      ]
     },
     "metadata": {},
     "output_type": "display_data"
    }
   ],
   "source": [
    "plt.matshow(result_df.corr())"
   ]
  },
  {
   "cell_type": "code",
   "execution_count": 63,
   "metadata": {},
   "outputs": [],
   "source": [
    "correlationTable = pd.concat([result_df['score'], result_df['wordsFound']]) "
   ]
  },
  {
   "cell_type": "code",
   "execution_count": 39,
   "metadata": {},
   "outputs": [],
   "source": [
    "import scipy.stats as stats\n",
    "tau, p_value = stats.kendalltau(result_df['score'], result_df['wordsFound'])"
   ]
  },
  {
   "cell_type": "code",
   "execution_count": 40,
   "metadata": {},
   "outputs": [
    {
     "data": {
      "text/plain": [
       "2.2569959389469544e-15"
      ]
     },
     "execution_count": 40,
     "metadata": {},
     "output_type": "execute_result"
    }
   ],
   "source": [
    "p_value"
   ]
  },
  {
   "cell_type": "code",
   "execution_count": null,
   "metadata": {},
   "outputs": [],
   "source": []
  },
  {
   "cell_type": "code",
   "execution_count": 50,
   "metadata": {},
   "outputs": [],
   "source": [
    "grouped = result_df.groupby('wordsFound', as_index=False)['score'].mean()"
   ]
  },
  {
   "cell_type": "code",
   "execution_count": null,
   "metadata": {},
   "outputs": [],
   "source": []
  },
  {
   "cell_type": "code",
   "execution_count": 55,
   "metadata": {},
   "outputs": [
    {
     "data": {
      "text/plain": [
       "<pandas.core.groupby.DataFrameGroupBy object at 0x10e872a10>"
      ]
     },
     "execution_count": 55,
     "metadata": {},
     "output_type": "execute_result"
    }
   ],
   "source": [
    "grouped_1"
   ]
  },
  {
   "cell_type": "code",
   "execution_count": 44,
   "metadata": {},
   "outputs": [],
   "source": [
    "import scipy.stats as stats\n",
    "test = stats.spearmanr(result_df['score'],result_df['wordsFound'], axis=0)"
   ]
  },
  {
   "cell_type": "code",
   "execution_count": 45,
   "metadata": {},
   "outputs": [
    {
     "data": {
      "text/plain": [
       "SpearmanrResult(correlation=0.07000493720839254, pvalue=2.09459012845794e-15)"
      ]
     },
     "execution_count": 45,
     "metadata": {},
     "output_type": "execute_result"
    }
   ],
   "source": [
    "test"
   ]
  },
  {
   "cell_type": "code",
   "execution_count": 68,
   "metadata": {},
   "outputs": [
    {
     "data": {
      "image/png": "[encoded data removed]",
      "text/plain": [
       "<matplotlib.figure.Figure at 0x1a198c6190>"
      ]
     },
     "metadata": {},
     "output_type": "display_data"
    }
   ],
   "source": [
    "import numpy as np \n",
    "import pylab \n",
    "import scipy.stats as stats\n",
    "\n",
    "stats.probplot(result_df['wordsFound'], dist=\"norm\", plot=pylab)\n",
    "pylab.show()"
   ]
  },
  {
   "cell_type": "code",
   "execution_count": null,
   "metadata": {},
   "outputs": [],
   "source": []
  }
 ],
 "metadata": {
  "kernelspec": {
   "display_name": "Python 2",
   "language": "python",
   "name": "python2"
  },
  "language_info": {
   "codemirror_mode": {
    "name": "ipython",
    "version": 2
   },
   "file_extension": ".py",
   "mimetype": "text/x-python",
   "name": "python",
   "nbconvert_exporter": "python",
   "pygments_lexer": "ipython2",
   "version": "2.7.14"
  }
 },
 "nbformat": 4,
 "nbformat_minor": 2
}

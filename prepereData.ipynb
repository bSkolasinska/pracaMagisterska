{
 "cells": [
  {
   "cell_type": "code",
   "execution_count": 97,
   "metadata": {},
   "outputs": [],
   "source": [
    "import pandas as pd\n",
    "import os\n",
    "import sys\n",
    "module_path = os.path.abspath(os.path.join('/Users/balbi/Downloads/pyMorfologik-master'))\n",
    "if module_path not in sys.path:\n",
    "    sys.path.append(module_path)\n",
    "from pymorfologik import Morfologik\n",
    "from pymorfologik.parsing import ListParser\n",
    "\n",
    "import numpy as np\n",
    "from __future__ import print_function\n",
    "import string\n",
    "\n",
    "import matplotlib.pyplot as plt\n",
    "%matplotlib inline"
   ]
  },
  {
   "cell_type": "code",
   "execution_count": 121,
   "metadata": {},
   "outputs": [],
   "source": [
    "result_df = pd.read_csv('opineo-productsReviews-analisis.csv')\n",
    "result_df = result_df.reset_index()\n",
    "result_df.loc[result_df.detectedEmotion == 'neutral', 'detectedEmotion'] = \"negative\"\n",
    "result_df['correct_guess'] = result_df['detectedEmotion'] == result_df['emotion']"
   ]
  },
  {
   "cell_type": "code",
   "execution_count": 147,
   "metadata": {},
   "outputs": [],
   "source": [
    "def get_length(text):\n",
    "    return len(text)\n",
    "\n",
    "def get_length_bin(length):\n",
    "    return round(length / 50)\n",
    "\n",
    "def get_score(result):\n",
    "    return 1 if result else 0\n",
    "\n",
    "def prepereDataForPlot(result_df):\n",
    "    result_df['score'] = map(get_score, result_df['correct_guess'])\n",
    "    #create group with 10 elements\n",
    "    result_df['text_length_bin'] = map(get_length_bin, result_df['words'])    \n",
    "    return result_df"
   ]
  },
  {
   "cell_type": "code",
   "execution_count": 150,
   "metadata": {},
   "outputs": [],
   "source": [
    "def createPlotTextLength(result_df):\n",
    "    # data to plot\n",
    "    n_groups = round(result_df['text_length_bin'].max())\n",
    "    \n",
    "    grouped = result_df.groupby('text_length_bin', as_index=False).mean()\n",
    "    sum_elements = grouped.words\n",
    "    means_words = grouped.words/sum_elements\n",
    "    means_lemmatisation = grouped.wordsAfterLemmatisation/sum_elements\n",
    "    means_emotions = grouped.wordsFound/sum_elements\n",
    "\n",
    "    # create plot\n",
    "    fig, ax = plt.subplots()\n",
    "    index = np.arange(len(grouped))\n",
    "    bar_width = 0.35\n",
    "    opacity = 0.5\n",
    "\n",
    "    rects1 = plt.bar(index, means_words, bar_width,\n",
    "                 alpha=opacity,\n",
    "                 color='b')\n",
    "\n",
    "    rects2 = plt.bar(index, means_lemmatisation, bar_width,\n",
    "                 alpha=opacity,\n",
    "                 color='g')\n",
    "    \n",
    "    rects2 = plt.bar(index, means_emotions, bar_width,\n",
    "                 alpha=opacity,\n",
    "                 color='c')\n",
    "\n",
    "    plt.xlabel('Lenght of text')\n",
    "    plt.ylabel('Percent')\n",
    "    #plt.title('Scores by person')\n",
    "    plt.xticks(index, (0, 50, 100, 150, 200, 250, 300, 350, 400, 450))\n",
    "    plt.legend()\n",
    "\n",
    "    plt.tight_layout()\n",
    "    plt.show()"
   ]
  },
  {
   "cell_type": "code",
   "execution_count": 125,
   "metadata": {},
   "outputs": [],
   "source": [
    "def createPlotRates(result_df):\n",
    "    # data to plot\n",
    "    result_df = result_df.round({'rate': 0})\n",
    "    n_groups = result_df.rate.max()\n",
    "    \n",
    "    grouped = result_df.groupby('rate', as_index=False).mean()\n",
    "    means_words = grouped.words/grouped.words\n",
    "    means_lemmatisation = grouped.wordsAfterLemmatisation/grouped.words\n",
    "    means_emotions = grouped.wordsFound/grouped.words\n",
    "\n",
    "    # create plot\n",
    "    fig, ax = plt.subplots()\n",
    "    index = np.arange(len(grouped))\n",
    "    bar_width = 0.35\n",
    "    opacity = 0.5\n",
    "\n",
    "    rects1 = plt.bar(index, means_words, bar_width,\n",
    "                 alpha=opacity,\n",
    "                 color='b')\n",
    "\n",
    "    rects2 = plt.bar(index, means_lemmatisation, bar_width,\n",
    "                 alpha=opacity,\n",
    "                 color='g')\n",
    "    \n",
    "    rects2 = plt.bar(index, means_emotions, bar_width,\n",
    "                 alpha=opacity,\n",
    "                 color='c')\n",
    "\n",
    "    plt.xlabel('Rates')\n",
    "    plt.ylabel('Percent')\n",
    "    #plt.title('Scores by person')\n",
    "    plt.xticks(index, ('1', '2', '3', '4', '5'))\n",
    "    plt.legend()\n",
    "\n",
    "    plt.tight_layout()\n",
    "    plt.show()"
   ]
  },
  {
   "cell_type": "code",
   "execution_count": 126,
   "metadata": {},
   "outputs": [],
   "source": [
    "def createPlotByScore(data):\n",
    "    grouped = data.groupby('words', as_index=False)['score'].mean()\n",
    "    fig, ax = plt.subplots()\n",
    "    x = grouped.words\n",
    "    y = grouped.score\n",
    "    fit = np.polyfit(x, y, deg=1)\n",
    "    ax.plot(x, fit[0] * x + fit[1], color='red')\n",
    "    ax.scatter(x, y)\n",
    "    \n",
    "    plt.xlabel('Lenght of text')\n",
    "    plt.ylabel('Efficacy')\n",
    "    \n",
    "    fig.show()"
   ]
  },
  {
   "cell_type": "code",
   "execution_count": 127,
   "metadata": {},
   "outputs": [],
   "source": [
    "#zaleznosc oceny od wykrytej emocji\n",
    "def createPlotByRate(data):\n",
    "    data = data.round({'rate': 0})   \n",
    "    grouped = data.groupby('rate', as_index=False)['score'].mean()\n",
    "    fig, ax = plt.subplots()\n",
    "    x = grouped.rate\n",
    "    y = grouped.score\n",
    "    fit = np.polyfit(x, y, deg=1)\n",
    "    ax.plot(x, fit[0] * x + fit[1], color='red')\n",
    "    ax.scatter(x, y)\n",
    "    \n",
    "    plt.xlabel('Rate')\n",
    "    plt.ylabel('Efficacy')\n",
    "\n",
    "    fig.show()"
   ]
  },
  {
   "cell_type": "code",
   "execution_count": 128,
   "metadata": {},
   "outputs": [],
   "source": [
    "def createPlotByWordsFound(result):\n",
    "    grouped = result.groupby('wordsFound', as_index=False)['score'].mean()\n",
    "    fig, ax = plt.subplots()\n",
    "    x = grouped.wordsFound\n",
    "    y = grouped.score\n",
    "    fit = np.polyfit(x, y, deg=1)\n",
    "    ax.plot(x, fit[0] * x + fit[1], color='red')\n",
    "    ax.scatter(x, y)\n",
    "\n",
    "    plt.xlabel('Found words in Slowosiec')\n",
    "    plt.ylabel('Efficacy')\n",
    "    \n",
    "    fig.show()"
   ]
  },
  {
   "cell_type": "code",
   "execution_count": 129,
   "metadata": {},
   "outputs": [],
   "source": [
    "def changeRangeOfComments(maximumNegativeRate, mimimumPositiveRate, comments):\n",
    "    comments = comments[(comments.rate <= maximumNegativeRate) | (comments.rate >= mimimumPositiveRate)]\n",
    "    comments = comments.reset_index()\n",
    "    return comments"
   ]
  },
  {
   "cell_type": "code",
   "execution_count": 130,
   "metadata": {},
   "outputs": [],
   "source": [
    "def getResults(result_df):\n",
    "    return result_df.groupby('correct_guess').size()"
   ]
  },
  {
   "cell_type": "code",
   "execution_count": 131,
   "metadata": {},
   "outputs": [],
   "source": [
    "def changeRangeOfComments(maximumNegativeRate, mimimumPositiveRate, comments):\n",
    "    comments = comments[(comments.rate <= maximumNegativeRate) | (comments.rate >= mimimumPositiveRate)]\n",
    "    comments = comments.reset_index()\n",
    "    return comments"
   ]
  },
  {
   "cell_type": "code",
   "execution_count": 135,
   "metadata": {},
   "outputs": [
    {
     "data": {
      "image/png": "[encoded data removed]",
      "text/plain": [
       "<matplotlib.figure.Figure at 0x114f92710>"
      ]
     },
     "metadata": {},
     "output_type": "display_data"
    }
   ],
   "source": [
    "createPlotByScore(result_df)"
   ]
  },
  {
   "cell_type": "code",
   "execution_count": 136,
   "metadata": {},
   "outputs": [
    {
     "data": {
      "image/png": "[encoded data removed]",
      "text/plain": [
       "<matplotlib.figure.Figure at 0x11af21050>"
      ]
     },
     "metadata": {},
     "output_type": "display_data"
    }
   ],
   "source": [
    "createPlotByRate(result_df)"
   ]
  },
  {
   "cell_type": "code",
   "execution_count": 137,
   "metadata": {},
   "outputs": [
    {
     "data": {
      "image/png": "[encoded data removed]",
      "text/plain": [
       "<matplotlib.figure.Figure at 0x114c7e790>"
      ]
     },
     "metadata": {},
     "output_type": "display_data"
    }
   ],
   "source": [
    "createPlotByWordsFound(result_df)"
   ]
  },
  {
   "cell_type": "code",
   "execution_count": 133,
   "metadata": {},
   "outputs": [
    {
     "data": {
      "text/plain": [
       "correct_guess\n",
       "False    2697\n",
       "True     3614\n",
       "dtype: int64"
      ]
     },
     "execution_count": 133,
     "metadata": {},
     "output_type": "execute_result"
    }
   ],
   "source": [
    "getResults(result_df)"
   ]
  },
  {
   "cell_type": "code",
   "execution_count": 148,
   "metadata": {},
   "outputs": [],
   "source": [
    "result_df = prepereDataForPlot(result_df)"
   ]
  },
  {
   "cell_type": "code",
   "execution_count": 145,
   "metadata": {},
   "outputs": [
    {
     "data": {
      "image/png": "[encoded data removed]",
      "text/plain": [
       "<matplotlib.figure.Figure at 0x114953fd0>"
      ]
     },
     "metadata": {},
     "output_type": "display_data"
    }
   ],
   "source": [
    "createPlotRates(result_df)"
   ]
  },
  {
   "cell_type": "code",
   "execution_count": 151,
   "metadata": {},
   "outputs": [
    {
     "data": {
      "image/png": "[encoded data removed]",
      "text/plain": [
       "<matplotlib.figure.Figure at 0x11f6a06d0>"
      ]
     },
     "metadata": {},
     "output_type": "display_data"
    }
   ],
   "source": [
    "createPlotTextLength(result_df)"
   ]
  },
  {
   "cell_type": "code",
   "execution_count": 152,
   "metadata": {},
   "outputs": [],
   "source": [
    "def devide(number):\n",
    "    return number/2\n",
    "\n",
    "def moreThenHalf(result_df):\n",
    "    result_df['half_wordsAfterLemmatisation'] = map(devide, result_df['wordsAfterLemmatisation'])\n",
    "    result_df['moreThenHalf'] = 0\n",
    "    result_df['moreThenHalf'] = np.where(((result_df['wordsFound'] >= result_df['half_wordsAfterLemmatisation']) & (result_df['half_wordsAfterLemmatisation'] > 0) & (result_df['wordsFound'] > 0)), 1 , 0)\n",
    "    return result_df"
   ]
  },
  {
   "cell_type": "code",
   "execution_count": 153,
   "metadata": {},
   "outputs": [
    {
     "name": "stderr",
     "output_type": "stream",
     "text": [
      "/anaconda2/lib/python2.7/site-packages/ipykernel_launcher.py:4: SettingWithCopyWarning: \n",
      "A value is trying to be set on a copy of a slice from a DataFrame.\n",
      "Try using .loc[row_indexer,col_indexer] = value instead\n",
      "\n",
      "See the caveats in the documentation: http://pandas.pydata.org/pandas-docs/stable/indexing.html#indexing-view-versus-copy\n",
      "  after removing the cwd from sys.path.\n"
     ]
    },
    {
     "data": {
      "text/plain": [
       "correct_guess\n",
       "False    247\n",
       "True     865\n",
       "dtype: int64"
      ]
     },
     "execution_count": 153,
     "metadata": {},
     "output_type": "execute_result"
    }
   ],
   "source": [
    "tym = moreThenHalf(result_df)\n",
    "tym.groupby('moreThenHalf').size()\n",
    "review_less = tym.loc[tym['moreThenHalf'] == 1]\n",
    "review_less['correct_guess'] = review_less['detectedEmotion'] == review_less['emotion']\n",
    "review_less.groupby('correct_guess').size()"
   ]
  },
  {
   "cell_type": "code",
   "execution_count": 154,
   "metadata": {},
   "outputs": [],
   "source": [
    "result = result_df.round({'rate': 0})\n",
    "grouped = result.groupby('rate', as_index=False).mean()"
   ]
  },
  {
   "cell_type": "code",
   "execution_count": 155,
   "metadata": {
    "scrolled": true
   },
   "outputs": [
    {
     "data": {
      "text/html": [
       "<div>\n",
       "<style scoped>\n",
       "    .dataframe tbody tr th:only-of-type {\n",
       "        vertical-align: middle;\n",
       "    }\n",
       "\n",
       "    .dataframe tbody tr th {\n",
       "        vertical-align: top;\n",
       "    }\n",
       "\n",
       "    .dataframe thead th {\n",
       "        text-align: right;\n",
       "    }\n",
       "</style>\n",
       "<table border=\"1\" class=\"dataframe\">\n",
       "  <thead>\n",
       "    <tr style=\"text-align: right;\">\n",
       "      <th></th>\n",
       "      <th>rate</th>\n",
       "      <th>index</th>\n",
       "      <th>resultOfDetecting</th>\n",
       "      <th>words</th>\n",
       "      <th>wordsAfterLemmatisation</th>\n",
       "      <th>wordsFound</th>\n",
       "      <th>correct_guess</th>\n",
       "      <th>score</th>\n",
       "      <th>text_length_bin</th>\n",
       "      <th>half_wordsAfterLemmatisation</th>\n",
       "      <th>moreThenHalf</th>\n",
       "    </tr>\n",
       "  </thead>\n",
       "  <tbody>\n",
       "    <tr>\n",
       "      <th>0</th>\n",
       "      <td>1.0</td>\n",
       "      <td>4075.160000</td>\n",
       "      <td>-0.039948</td>\n",
       "      <td>49.346667</td>\n",
       "      <td>35.026667</td>\n",
       "      <td>7.066667</td>\n",
       "      <td>0.800000</td>\n",
       "      <td>0.800000</td>\n",
       "      <td>1.000000</td>\n",
       "      <td>17.513333</td>\n",
       "      <td>0.026667</td>\n",
       "    </tr>\n",
       "    <tr>\n",
       "      <th>1</th>\n",
       "      <td>2.0</td>\n",
       "      <td>3607.114754</td>\n",
       "      <td>-0.016004</td>\n",
       "      <td>36.393443</td>\n",
       "      <td>27.032787</td>\n",
       "      <td>5.737705</td>\n",
       "      <td>0.770492</td>\n",
       "      <td>0.770492</td>\n",
       "      <td>0.721311</td>\n",
       "      <td>13.516393</td>\n",
       "      <td>0.032787</td>\n",
       "    </tr>\n",
       "    <tr>\n",
       "      <th>2</th>\n",
       "      <td>3.0</td>\n",
       "      <td>3698.870370</td>\n",
       "      <td>0.017968</td>\n",
       "      <td>32.805556</td>\n",
       "      <td>24.194444</td>\n",
       "      <td>4.944444</td>\n",
       "      <td>0.583333</td>\n",
       "      <td>0.583333</td>\n",
       "      <td>0.583333</td>\n",
       "      <td>12.097222</td>\n",
       "      <td>0.092593</td>\n",
       "    </tr>\n",
       "    <tr>\n",
       "      <th>3</th>\n",
       "      <td>4.0</td>\n",
       "      <td>2774.628845</td>\n",
       "      <td>0.123539</td>\n",
       "      <td>12.728726</td>\n",
       "      <td>10.893328</td>\n",
       "      <td>2.693168</td>\n",
       "      <td>0.536157</td>\n",
       "      <td>0.536157</td>\n",
       "      <td>0.143428</td>\n",
       "      <td>5.446664</td>\n",
       "      <td>0.179784</td>\n",
       "    </tr>\n",
       "    <tr>\n",
       "      <th>4</th>\n",
       "      <td>5.0</td>\n",
       "      <td>3378.552189</td>\n",
       "      <td>0.162420</td>\n",
       "      <td>15.158530</td>\n",
       "      <td>12.232884</td>\n",
       "      <td>3.074355</td>\n",
       "      <td>0.589787</td>\n",
       "      <td>0.589787</td>\n",
       "      <td>0.196409</td>\n",
       "      <td>6.116442</td>\n",
       "      <td>0.181818</td>\n",
       "    </tr>\n",
       "  </tbody>\n",
       "</table>\n",
       "</div>"
      ],
      "text/plain": [
       "   rate        index  resultOfDetecting      words  wordsAfterLemmatisation  \\\n",
       "0   1.0  4075.160000          -0.039948  49.346667                35.026667   \n",
       "1   2.0  3607.114754          -0.016004  36.393443                27.032787   \n",
       "2   3.0  3698.870370           0.017968  32.805556                24.194444   \n",
       "3   4.0  2774.628845           0.123539  12.728726                10.893328   \n",
       "4   5.0  3378.552189           0.162420  15.158530                12.232884   \n",
       "\n",
       "   wordsFound  correct_guess     score  text_length_bin  \\\n",
       "0    7.066667       0.800000  0.800000         1.000000   \n",
       "1    5.737705       0.770492  0.770492         0.721311   \n",
       "2    4.944444       0.583333  0.583333         0.583333   \n",
       "3    2.693168       0.536157  0.536157         0.143428   \n",
       "4    3.074355       0.589787  0.589787         0.196409   \n",
       "\n",
       "   half_wordsAfterLemmatisation  moreThenHalf  \n",
       "0                     17.513333      0.026667  \n",
       "1                     13.516393      0.032787  \n",
       "2                     12.097222      0.092593  \n",
       "3                      5.446664      0.179784  \n",
       "4                      6.116442      0.181818  "
      ]
     },
     "execution_count": 155,
     "metadata": {},
     "output_type": "execute_result"
    }
   ],
   "source": [
    "grouped"
   ]
  },
  {
   "cell_type": "code",
   "execution_count": 115,
   "metadata": {},
   "outputs": [],
   "source": [
    "newresult = changeRangeOfComments(4, 8, result_df)"
   ]
  },
  {
   "cell_type": "code",
   "execution_count": 116,
   "metadata": {},
   "outputs": [
    {
     "data": {
      "text/plain": [
       "correct_guess\n",
       "False     886\n",
       "True     1596\n",
       "dtype: int64"
      ]
     },
     "execution_count": 116,
     "metadata": {},
     "output_type": "execute_result"
    }
   ],
   "source": [
    "getResults(newresult)"
   ]
  },
  {
   "cell_type": "code",
   "execution_count": 118,
   "metadata": {},
   "outputs": [
    {
     "data": {
      "text/plain": [
       "64"
      ]
     },
     "execution_count": 118,
     "metadata": {},
     "output_type": "execute_result"
    }
   ],
   "source": [
    "len(newresult.loc[newresult['correct_guess'] == True])*100/len(newresult)"
   ]
  },
  {
   "cell_type": "code",
   "execution_count": 134,
   "metadata": {},
   "outputs": [
    {
     "data": {
      "text/plain": [
       "6311"
      ]
     },
     "execution_count": 134,
     "metadata": {},
     "output_type": "execute_result"
    }
   ],
   "source": [
    "len(result_df)"
   ]
  },
  {
   "cell_type": "code",
   "execution_count": null,
   "metadata": {},
   "outputs": [],
   "source": []
  }
 ],
 "metadata": {
  "kernelspec": {
   "display_name": "Python 2",
   "language": "python",
   "name": "python2"
  },
  "language_info": {
   "codemirror_mode": {
    "name": "ipython",
    "version": 2
   },
   "file_extension": ".py",
   "mimetype": "text/x-python",
   "name": "python",
   "nbconvert_exporter": "python",
   "pygments_lexer": "ipython2",
   "version": "2.7.14"
  }
 },
 "nbformat": 4,
 "nbformat_minor": 2
}

{
 "cells": [
  {
   "cell_type": "code",
   "execution_count": 6,
   "metadata": {},
   "outputs": [],
   "source": [
    "import pandas as pd\n"
   ]
  },
  {
   "cell_type": "code",
   "execution_count": 2,
   "metadata": {},
   "outputs": [],
   "source": [
    "emotions = pd.read_csv('emotionsTable-with-neutralEmotion.csv')"
   ]
  },
  {
   "cell_type": "code",
   "execution_count": 29,
   "metadata": {},
   "outputs": [
    {
     "data": {
      "text/plain": [
       "False"
      ]
     },
     "execution_count": 29,
     "metadata": {},
     "output_type": "execute_result"
    }
   ],
   "source": [
    "((emotions['word'] == 'rozsypany')).any()"
   ]
  },
  {
   "cell_type": "code",
   "execution_count": 22,
   "metadata": {},
   "outputs": [],
   "source": [
    "def detectingEmotionsInText(words_list):\n",
    "    numberOfWords = len(words_list)\n",
    "    numberOfWordsFound = 0\n",
    "    result = 0\n",
    "    emotions_list = list()\n",
    "    if(numberOfWords > 0):\n",
    "        emotionsCounter = 0\n",
    "        for el in words_list: \n",
    "            if((emotions['word'] == el)).any():\n",
    "                emotions_list.append(el)\n",
    "                print(el)\n",
    "                print(float(emotions.loc[emotions['word'] == el]['sentiment'].mean()))\n",
    "                emotionsCounter += float(emotions.loc[emotions['word'] == el]['sentiment'].mean())\n",
    "                numberOfWordsFound = numberOfWordsFound + 1\n",
    "        result = emotionsCounter/numberOfWords\n",
    "    return [result, numberOfWordsFound, emotions_list]"
   ]
  },
  {
   "cell_type": "code",
   "execution_count": 24,
   "metadata": {},
   "outputs": [
    {
     "name": "stdout",
     "output_type": "stream",
     "text": [
      "duży\n",
      "-0.166666666667\n"
     ]
    },
    {
     "data": {
      "text/plain": [
       "[-0.16666666666666666, 1, ['du\\xc5\\xbcy']]"
      ]
     },
     "execution_count": 24,
     "metadata": {},
     "output_type": "execute_result"
    }
   ],
   "source": [
    "detectingEmotionsInText(['duży'])"
   ]
  },
  {
   "cell_type": "code",
   "execution_count": null,
   "metadata": {},
   "outputs": [],
   "source": []
  },
  {
   "cell_type": "code",
   "execution_count": null,
   "metadata": {},
   "outputs": [],
   "source": []
  }
 ],
 "metadata": {
  "kernelspec": {
   "display_name": "Python 2",
   "language": "python",
   "name": "python2"
  },
  "language_info": {
   "codemirror_mode": {
    "name": "ipython",
    "version": 2
   },
   "file_extension": ".py",
   "mimetype": "text/x-python",
   "name": "python",
   "nbconvert_exporter": "python",
   "pygments_lexer": "ipython2",
   "version": "2.7.14"
  }
 },
 "nbformat": 4,
 "nbformat_minor": 2
}

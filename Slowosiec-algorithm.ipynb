{
 "cells": [
  {
   "cell_type": "code",
   "execution_count": 86,
   "metadata": {},
   "outputs": [],
   "source": [
    "import pandas as pd\n",
    "import matplotlib.pyplot as plt\n",
    "%matplotlib inline\n",
    "import numpy as np"
   ]
  },
  {
   "cell_type": "code",
   "execution_count": 87,
   "metadata": {},
   "outputs": [],
   "source": [
    "def prepereDataWithoutLemmatisation(maximumNegativeRate, mimimumPositiveRate):\n",
    "    comments = pd.read_csv('FilmWeb-detectingEmotions-lemmatisation.csv')\n",
    "    comments.loc[comments.emotion == 'neutral', 'emotion'] = \"negative\"\n",
    "    comments = comments[(comments.rate <= maximumNegativeRate) | (comments.rate >= mimimumPositiveRate)]\n",
    "    comments = comments.reset_index()\n",
    "    return comments"
   ]
  },
  {
   "cell_type": "code",
   "execution_count": 88,
   "metadata": {},
   "outputs": [],
   "source": [
    "data = prepereDataWithoutLemmatisation(5,6)"
   ]
  },
  {
   "cell_type": "code",
   "execution_count": 89,
   "metadata": {},
   "outputs": [],
   "source": [
    "def slowosiec(text):\n",
    "    emotions = pd.read_csv('emotionsTable.csv')\n",
    "    text = text.replace(\"[\", \"\")\n",
    "    text = text.replace(\" \", \"\")\n",
    "    text = text.replace(\"]\", \"\")\n",
    "    words_list = text.split(',')\n",
    "    numberOfWords = len(words_list)\n",
    "    result = 0\n",
    "    if(numberOfWords > 0):\n",
    "        emotionsCounter = 0\n",
    "        for el in words_list: \n",
    "            if((emotions['word'] == el)).any():\n",
    "                emotionsCounter += float(emotions.loc[emotions['word'] == el]['sentiment'].mean())  \n",
    "        result = emotionsCounter/numberOfWords\n",
    "    return result"
   ]
  },
  {
   "cell_type": "code",
   "execution_count": 90,
   "metadata": {},
   "outputs": [],
   "source": [
    "def detectEmotion(text):\n",
    "    return text.apply(slowosiec).apply(getEmotionStatusOfText)"
   ]
  },
  {
   "cell_type": "code",
   "execution_count": 91,
   "metadata": {},
   "outputs": [],
   "source": [
    "def getEmotionStatusOfText(result):\n",
    "    if(result <= 0):\n",
    "        return 'negative'\n",
    "    elif(result > 0):\n",
    "        return 'positive'"
   ]
  },
  {
   "cell_type": "code",
   "execution_count": 92,
   "metadata": {},
   "outputs": [],
   "source": [
    "data['detectedEmotion'] = detectEmotion(data['text'])"
   ]
  },
  {
   "cell_type": "code",
   "execution_count": 93,
   "metadata": {},
   "outputs": [],
   "source": [
    "def get_length(text):\n",
    "    return len(text)\n",
    "\n",
    "def get_length_bin(length):\n",
    "    return length / 10\n",
    "\n",
    "def get_score(result):\n",
    "    return 1 if result else 0\n",
    "\n",
    "def prepereDataForPlot(result_df):\n",
    "    result_df['correct_guess'] = result_df['detectedEmotion'] == result_df['emotion']\n",
    "    result_df['score'] = map(get_score, result_df['correct_guess'])\n",
    "    result_df['text_length'] = map(get_length, result_df['text'])\n",
    "    #create group with 10 elements\n",
    "    result_df['text_length_bin'] = map(get_length_bin, result_df['text_length'])    \n",
    "    grouped = result_df.groupby('text_length_bin', as_index=False)['score'].mean()\n",
    "    return [result_df, grouped]"
   ]
  },
  {
   "cell_type": "code",
   "execution_count": 94,
   "metadata": {},
   "outputs": [],
   "source": [
    "newData = prepereDataForPlot(data)"
   ]
  },
  {
   "cell_type": "code",
   "execution_count": 95,
   "metadata": {},
   "outputs": [],
   "source": [
    "def createPlot(data):\n",
    "    fig, ax = plt.subplots()\n",
    "    x = data.text_length_bin * 10\n",
    "    y = data.score\n",
    "    fit = np.polyfit(x, y, deg=1)\n",
    "    ax.plot(x, fit[0] * x + fit[1], color='red')\n",
    "    ax.scatter(x, y)\n",
    "\n",
    "    fig.show()"
   ]
  },
  {
   "cell_type": "code",
   "execution_count": 96,
   "metadata": {},
   "outputs": [
    {
     "data": {
      "image/png": "[encoded data removed]",
      "text/plain": [
       "<matplotlib.figure.Figure at 0x10c3e3a50>"
      ]
     },
     "metadata": {},
     "output_type": "display_data"
    }
   ],
   "source": [
    "createPlot(newData[1])"
   ]
  },
  {
   "cell_type": "code",
   "execution_count": null,
   "metadata": {},
   "outputs": [],
   "source": []
  }
 ],
 "metadata": {
  "kernelspec": {
   "display_name": "Python 2",
   "language": "python",
   "name": "python2"
  },
  "language_info": {
   "codemirror_mode": {
    "name": "ipython",
    "version": 2
   },
   "file_extension": ".py",
   "mimetype": "text/x-python",
   "name": "python",
   "nbconvert_exporter": "python",
   "pygments_lexer": "ipython2",
   "version": "2.7.14"
  }
 },
 "nbformat": 4,
 "nbformat_minor": 2
}

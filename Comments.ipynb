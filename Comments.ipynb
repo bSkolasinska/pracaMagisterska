{
 "cells": [
  {
   "cell_type": "code",
   "execution_count": 6,
   "metadata": {},
   "outputs": [
    {
     "name": "stdout",
     "output_type": "stream",
     "text": [
      "Requirement already satisfied: BeautifulSoup4 in /anaconda2/lib/python2.7/site-packages\n"
     ]
    },
    {
     "name": "stderr",
     "output_type": "stream",
     "text": [
      "You are using pip version 9.0.1, however version 10.0.1 is available.\n",
      "You should consider upgrading via the 'pip install --upgrade pip' command.\n"
     ]
    }
   ],
   "source": [
    "import pip    \n",
    "def install(package):\n",
    "   pip.main(['install', package])\n",
    "\n",
    "install('BeautifulSoup4')"
   ]
  },
  {
   "cell_type": "code",
   "execution_count": 7,
   "metadata": {},
   "outputs": [],
   "source": [
    "movies_reviews = pd.DataFrame()"
   ]
  },
  {
   "cell_type": "code",
   "execution_count": 8,
   "metadata": {},
   "outputs": [],
   "source": [
    "import requests\n",
    "from bs4 import BeautifulSoup\n",
    "import pandas as pd\n",
    "\n",
    "page = requests.get(\"http://www.filmweb.pl/Skazani.Na.Shawshank/discussion?page=1\")\n",
    "content = BeautifulSoup(page.content, 'html5lib')\n",
    "\n",
    "number_of_pages = content.find_all('a', class_='fbtn fbtn-page')[-2].get_text()"
   ]
  },
  {
   "cell_type": "code",
   "execution_count": null,
   "metadata": {},
   "outputs": [],
   "source": [
    "i = 1\n",
    "while i <= number_of_pages:\n",
    "    page = requests.get(\"http://www.filmweb.pl/Skazani.Na.Shawshank/discussion?page=\" + str(i))\n",
    "    soup = BeautifulSoup(page.content, 'html5lib')\n",
    "    for movie in soup.find_all('li', class_='filmCategory'):\n",
    "        exists_rate = movie.find('ul', class_='s-13 sep-line inline').select('li:nth-of-type(3)')\n",
    "        if(exists_rate):\n",
    "            comment_title = movie.find('h3', class_='s-16')\n",
    "            if(comment_title):\n",
    "                title = comment_title.select('a')[0].get_text()\n",
    "                text_tag = movie.find('p', class_='text normal')\n",
    "                comment = title\n",
    "                if(text_tag):\n",
    "                    text = text_tag.get_text()\n",
    "                    comment = comment + text\n",
    "                comment = comment.replace(\"\\n\", \"\").replace('\\t', '')\n",
    "                rate_ul_tag = movie.find('ul', class_='s-13 sep-line inline')\n",
    "                rate_li_tag = rate_ul_tag.select('li:nth-of-type(3)')\n",
    "                rate = rate_li_tag[0].get_text().replace(\" \", \"\").replace(\"\\n\", \"\").replace('\\t', '')  \n",
    "                if \":\" in rate: \n",
    "                    rate = rate.split(\":\",1)[1] \n",
    "                    if(int(rate) < 6):\n",
    "                        if(int(rate) == 5):\n",
    "                            emotion = 'neutral'\n",
    "                        else:\n",
    "                            emotion = 'negative'   \n",
    "                    else: \n",
    "                        emotion = 'positive'\n",
    "                    movies_reviews = movies_reviews.append({\"comments\": comment, \"rates\": rate, 'emotion': emotion}, ignore_index=True)\n",
    "    i = i + 1"
   ]
  },
  {
   "cell_type": "code",
   "execution_count": 5,
   "metadata": {},
   "outputs": [
    {
     "data": {
      "text/plain": [
       "u'58'"
      ]
     },
     "execution_count": 5,
     "metadata": {},
     "output_type": "execute_result"
    }
   ],
   "source": [
    "number_of_pages"
   ]
  },
  {
   "cell_type": "code",
   "execution_count": 366,
   "metadata": {},
   "outputs": [],
   "source": [
    "movies_reviews"
   ]
  },
  {
   "cell_type": "code",
   "execution_count": null,
   "metadata": {},
   "outputs": [],
   "source": []
  },
  {
   "cell_type": "code",
   "execution_count": 351,
   "metadata": {},
   "outputs": [],
   "source": [
    "movies_reviews"
   ]
  },
  {
   "cell_type": "code",
   "execution_count": 20,
   "metadata": {},
   "outputs": [],
   "source": [
    "movies_reviews.to_csv('FilmWeb-commentsRates.csv', encoding='utf-8', index=False)"
   ]
  },
  {
   "cell_type": "code",
   "execution_count": null,
   "metadata": {},
   "outputs": [],
   "source": []
  },
  {
   "cell_type": "code",
   "execution_count": null,
   "metadata": {},
   "outputs": [],
   "source": []
  }
 ],
 "metadata": {
  "kernelspec": {
   "display_name": "Python 2",
   "language": "python",
   "name": "python2"
  },
  "language_info": {
   "codemirror_mode": {
    "name": "ipython",
    "version": 2
   },
   "file_extension": ".py",
   "mimetype": "text/x-python",
   "name": "python",
   "nbconvert_exporter": "python",
   "pygments_lexer": "ipython2",
   "version": "2.7.14"
  }
 },
 "nbformat": 4,
 "nbformat_minor": 2
}

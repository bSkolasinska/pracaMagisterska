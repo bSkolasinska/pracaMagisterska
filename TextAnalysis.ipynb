{
 "cells": [
  {
   "cell_type": "code",
   "execution_count": 250,
   "metadata": {},
   "outputs": [],
   "source": [
    "import pandas as pd\n",
    "import os\n",
    "import sys\n",
    "module_path = os.path.abspath(os.path.join('/Users/balbi/Downloads/pyMorfologik-master'))\n",
    "if module_path not in sys.path:\n",
    "    sys.path.append(module_path)\n",
    "from pymorfologik import Morfologik\n",
    "from pymorfologik.parsing import ListParser"
   ]
  },
  {
   "cell_type": "code",
   "execution_count": 236,
   "metadata": {},
   "outputs": [],
   "source": [
    "def lemmatisation(text):\n",
    "    parser = ListParser()\n",
    "    stemmer = Morfologik()\n",
    "    stemming = stemmer.stem([text], parser)\n",
    "    words_list = list()\n",
    "    for s in stemming:\n",
    "        for i in s:\n",
    "            for l in i:\n",
    "                if(len(l) > 1):\n",
    "                    words_list.append(l)\n",
    "    return words_list"
   ]
  },
  {
   "cell_type": "code",
   "execution_count": 237,
   "metadata": {},
   "outputs": [],
   "source": [
    "emotions = pd.read_csv('emotionsTable.csv')\n",
    "def detectingEmotionsInText(text):\n",
    "    charToRemove= str.maketrans(dict.fromkeys('!@#$?.:,'))\n",
    "    words_list = lemmatisation(text)\n",
    "    numberOfWords = len(words_list)\n",
    "    emotionsCounter = 0\n",
    "    words = pd.DataFrame()\n",
    "    for el in words_list: \n",
    "        el = el.translate(charToRemove);\n",
    "        data = emotions[emotions['word'] == el]\n",
    "        words = words.append(data, ignore_index=True)  \n",
    "    emotionsCounter = words['sentiment'].sum()\n",
    "    result = emotionsCounter/numberOfWords\n",
    "    return result"
   ]
  },
  {
   "cell_type": "code",
   "execution_count": 269,
   "metadata": {},
   "outputs": [],
   "source": [
    "def getEmotionStatusOfText(result):\n",
    "    if(result < 0):\n",
    "        return 'nagatywny'\n",
    "    elif(result > 0):\n",
    "        return 'pozytywny'\n",
    "    else:\n",
    "        return 'neutralny'"
   ]
  },
  {
   "cell_type": "code",
   "execution_count": 283,
   "metadata": {
    "scrolled": true
   },
   "outputs": [
    {
     "name": "stdout",
     "output_type": "stream",
     "text": [
      "nagatywny\n"
     ]
    }
   ],
   "source": [
    "result = detectingEmotionsInText('Uważam że zmuszanie dzieci do jedzenia warzyw jest karygodne oraz bestialskie')\n",
    "print(getEmotionStatusOfText(result))"
   ]
  },
  {
   "cell_type": "code",
   "execution_count": 246,
   "metadata": {},
   "outputs": [],
   "source": [
    "comments = pd.read_csv('oceny.csv')\n",
    "numberOfComments = len(comments)\n",
    "mean = comments['Ocena'].mean()"
   ]
  },
  {
   "cell_type": "code",
   "execution_count": null,
   "metadata": {},
   "outputs": [],
   "source": [
    "%%time\n",
    "comments_list = comments[\"Komentarz\"].values\n",
    "counter = 0\n",
    "newCommentsTable = pd.DataFrame()\n",
    "for comment in comments_list:\n",
    "    test = detectingEmotionsInText(comment)\n",
    "    newCommentsTable = newCommentsTable.append({'detectingEmotions': lemmatisation(comment), 'counter': test, 'result': getEmotionStatusOfText(test)}, ignore_index=True)"
   ]
  },
  {
   "cell_type": "code",
   "execution_count": 251,
   "metadata": {},
   "outputs": [],
   "source": [
    "table = comments.join(newCommentsTable)\n",
    "table.to_csv('FilmWeb-detectingEmotions.csv', encoding='utf-8', index=False)"
   ]
  },
  {
   "cell_type": "code",
   "execution_count": null,
   "metadata": {},
   "outputs": [],
   "source": []
  },
  {
   "cell_type": "code",
   "execution_count": null,
   "metadata": {},
   "outputs": [],
   "source": []
  },
  {
   "cell_type": "code",
   "execution_count": 270,
   "metadata": {},
   "outputs": [
    {
     "name": "stdout",
     "output_type": "stream",
     "text": [
      "CPU times: user 2.53 s, sys: 334 ms, total: 2.87 s\n",
      "Wall time: 19.5 s\n"
     ]
    }
   ],
   "source": []
  },
  {
   "cell_type": "code",
   "execution_count": 280,
   "metadata": {},
   "outputs": [],
   "source": []
  },
  {
   "cell_type": "code",
   "execution_count": 282,
   "metadata": {},
   "outputs": [],
   "source": []
  },
  {
   "cell_type": "code",
   "execution_count": null,
   "metadata": {},
   "outputs": [],
   "source": []
  },
  {
   "cell_type": "code",
   "execution_count": null,
   "metadata": {},
   "outputs": [],
   "source": []
  }
 ],
 "metadata": {
  "kernelspec": {
   "display_name": "Python 2",
   "language": "python",
   "name": "python2"
  },
  "language_info": {
   "codemirror_mode": {
    "name": "ipython",
    "version": 2
   },
   "file_extension": ".py",
   "mimetype": "text/x-python",
   "name": "python",
   "nbconvert_exporter": "python",
   "pygments_lexer": "ipython2",
   "version": "2.7.14"
  }
 },
 "nbformat": 4,
 "nbformat_minor": 2
}

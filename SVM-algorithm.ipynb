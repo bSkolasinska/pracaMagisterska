{
 "cells": [
  {
   "cell_type": "code",
   "execution_count": 94,
   "metadata": {},
   "outputs": [],
   "source": [
    "import sys\n",
    "import os\n",
    "import time\n",
    "import pandas as pd\n",
    "import numpy as np\n",
    "import collections\n",
    "import matplotlib.pyplot as plt\n",
    "%matplotlib inline\n",
    "\n",
    "from sklearn.feature_extraction.text import TfidfVectorizer\n",
    "from sklearn import svm\n",
    "from sklearn.metrics import classification_report\n",
    "from sklearn.model_selection import StratifiedKFold\n",
    "from sklearn.metrics import f1_score"
   ]
  },
  {
   "cell_type": "code",
   "execution_count": 46,
   "metadata": {},
   "outputs": [],
   "source": [
    "def getData():\n",
    "    comments = pd.read_csv('FilmWeb-detectingEmotions-lemmatisation.csv')\n",
    "    comments.loc[comments.emotion == 'neutral', 'emotion'] = \"negative\"\n",
    "    comments = comments.reset_index()    \n",
    "    return comments"
   ]
  },
  {
   "cell_type": "code",
   "execution_count": 79,
   "metadata": {},
   "outputs": [],
   "source": [
    "#split (0.8 train_data 0.2 test_data)\n",
    "def prepereDataWithoutLemmatisation(split, comments):\n",
    "    data = np.empty((0))\n",
    "    data_labels = np.empty((0))\n",
    "\n",
    "    train_data = pd.DataFrame()\n",
    "    test_data = pd.DataFrame()\n",
    "\n",
    "    length_train_data = int(split * len(comments))\n",
    "    train_data = comments[:length_train_data]\n",
    "    test_data = comments[length_train_data:]\n",
    "  \n",
    "    for index, train_data in train_data.iterrows():\n",
    "        data = np.append(data, train_data['text'])\n",
    "        data_labels = np.append(data_labels, train_data['emotion'])\n",
    "    return [data, data_labels, test_data]"
   ]
  },
  {
   "cell_type": "code",
   "execution_count": 80,
   "metadata": {},
   "outputs": [],
   "source": [
    "def SVM_liblinear(iterations, dataset, is_shuffle):\n",
    "    data = dataset[0]\n",
    "    data_labels = dataset[1]\n",
    "    \n",
    "    sss = StratifiedKFold(n_splits=iterations, shuffle=is_shuffle)\n",
    "\n",
    "    for train_index, test_index in sss.split(data, data_labels):\n",
    "        train_data = data[train_index]\n",
    "        train_labels = data_labels[train_index]\n",
    "        \n",
    "        vectorizer = TfidfVectorizer(min_df=5,max_df = 0.8,sublinear_tf=True,use_idf=True)\n",
    "        train_vectors = vectorizer.fit_transform(train_data)\n",
    "        \n",
    "        classifier_liblinear = svm.LinearSVC()\n",
    "        classifier_liblinear.fit(train_vectors, train_labels)\n",
    "        \n",
    "    return [classifier_liblinear,vectorizer]"
   ]
  },
  {
   "cell_type": "code",
   "execution_count": 87,
   "metadata": {},
   "outputs": [],
   "source": [
    "def SCV_detectingEmotions(classifier, vectorizer, test_data):\n",
    "    test_vectors = vectorizer.transform(test_data)\n",
    "    prediction_liblinear = classifier.predict(test_vectors)\n",
    "    return prediction_liblinear"
   ]
  },
  {
   "cell_type": "code",
   "execution_count": 82,
   "metadata": {},
   "outputs": [],
   "source": [
    "def createDataAfterClassifier(data, detectedEmotion):\n",
    "    result_df = pd.DataFrame({\"text\": data['text'], \"detectedEmotion\": detectedEmotion, 'emotion': data['emotion']})\n",
    "    return result_df"
   ]
  },
  {
   "cell_type": "code",
   "execution_count": 83,
   "metadata": {},
   "outputs": [],
   "source": [
    "def get_length(text):\n",
    "    return len(text)\n",
    "\n",
    "def get_length_bin(length):\n",
    "    return length / 10\n",
    "\n",
    "def get_score(result):\n",
    "    return 1 if result else 0\n",
    "\n",
    "def prepereDataForPlot(result_df):\n",
    "    result_df['correct_guess'] = result_df['detectedEmotion'] == result_df['emotion']\n",
    "    result_df['score'] = map(get_score, result_df['correct_guess'])\n",
    "    result_df['text_length'] = map(get_length, result_df['text'])\n",
    "    #create group with 10 elements\n",
    "    result_df['text_length_bin'] = map(get_length_bin, result_df['text_length'])    \n",
    "    return result_df"
   ]
  },
  {
   "cell_type": "code",
   "execution_count": 84,
   "metadata": {},
   "outputs": [],
   "source": [
    "def createPlot(data):\n",
    "    grouped = data.groupby('text_length_bin', as_index=False)['score'].mean()\n",
    "    fig, ax = plt.subplots()\n",
    "    x = grouped.text_length_bin * 10\n",
    "    y = grouped.score\n",
    "    fit = np.polyfit(x, y, deg=1)\n",
    "    ax.plot(x, fit[0] * x + fit[1], color='red')\n",
    "    ax.scatter(x, y)\n",
    "\n",
    "    fig.show()"
   ]
  },
  {
   "cell_type": "code",
   "execution_count": 85,
   "metadata": {},
   "outputs": [],
   "source": [
    "def splitData(data, split):  \n",
    "    train_data = pd.DataFrame()\n",
    "    test_data = pd.DataFrame()\n",
    "\n",
    "    length_train_data = int(split * len(data))\n",
    "    train_data = data[:length_train_data]\n",
    "    test_data = data[length_train_data:]\n",
    "    \n",
    "    return [train_data, test_data]"
   ]
  },
  {
   "cell_type": "code",
   "execution_count": null,
   "metadata": {},
   "outputs": [],
   "source": [
    "#testing dataset\n",
    "data = getData()\n",
    "dataset = prepereDataWithoutLemmatisation(0.8, data)\n",
    "[classifier, vectorizer] = SVM_liblinear(10, dataset, True)\n",
    "testData = dataset[2]\n",
    "detectedEmotion = SCV_detectingEmotions(classifier,vectorizer,testData['text'])\n",
    "\n",
    "result_df = pd.DataFrame({\"text\": testData['text'], \"detectedEmotion\": detectedEmotion, 'emotion': testData['emotion']})"
   ]
  },
  {
   "cell_type": "code",
   "execution_count": 89,
   "metadata": {},
   "outputs": [],
   "source": [
    "result_df = prepereDataForPlot(result_df)"
   ]
  },
  {
   "cell_type": "code",
   "execution_count": 95,
   "metadata": {},
   "outputs": [
    {
     "name": "stderr",
     "output_type": "stream",
     "text": [
      "/anaconda2/lib/python2.7/site-packages/matplotlib/figure.py:418: UserWarning: matplotlib is currently using a non-GUI backend, so cannot show the figure\n",
      "  \"matplotlib is currently using a non-GUI backend, \"\n"
     ]
    },
    {
     "data": {
      "image/png": "[encoded data removed]",
      "text/plain": [
       "<matplotlib.figure.Figure at 0x10b47e690>"
      ]
     },
     "metadata": {},
     "output_type": "display_data"
    }
   ],
   "source": [
    "createPlot(result_df)"
   ]
  },
  {
   "cell_type": "code",
   "execution_count": null,
   "metadata": {},
   "outputs": [],
   "source": []
  }
 ],
 "metadata": {
  "kernelspec": {
   "display_name": "Python 2",
   "language": "python",
   "name": "python2"
  },
  "language_info": {
   "codemirror_mode": {
    "name": "ipython",
    "version": 2
   },
   "file_extension": ".py",
   "mimetype": "text/x-python",
   "name": "python",
   "nbconvert_exporter": "python",
   "pygments_lexer": "ipython2",
   "version": "2.7.14"
  }
 },
 "nbformat": 4,
 "nbformat_minor": 2
}

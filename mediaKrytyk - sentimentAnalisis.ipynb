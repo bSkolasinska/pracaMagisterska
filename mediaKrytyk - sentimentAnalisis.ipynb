{
 "cells": [
  {
   "cell_type": "code",
   "execution_count": 18,
   "metadata": {},
   "outputs": [],
   "source": [
    "import pandas as pd\n",
    "import os\n",
    "import sys\n",
    "module_path = os.path.abspath(os.path.join('/Users/balbi/Downloads/pyMorfologik-master'))\n",
    "if module_path not in sys.path:\n",
    "    sys.path.append(module_path)\n",
    "from pymorfologik import Morfologik\n",
    "from pymorfologik.parsing import ListParser\n",
    "from pymorfologik.parsing import BaseParser\n",
    "from pymorfologik.parsing import DictParser\n",
    "\n",
    "import numpy as np\n",
    "from __future__ import print_function\n",
    "import string\n",
    "from multiprocessing import cpu_count, Pool\n",
    "import dask.dataframe as dd\n",
    "from dask.multiprocessing import get\n",
    "import matplotlib.pyplot as plt\n",
    "%matplotlib inline"
   ]
  },
  {
   "cell_type": "code",
   "execution_count": 19,
   "metadata": {},
   "outputs": [],
   "source": [
    "def getEmotionStatusOfText(result):\n",
    "    if(result < 0):\n",
    "        return 'negative'\n",
    "    elif(result > 0):\n",
    "        return 'positive'\n",
    "    else:\n",
    "        return 'neutral'"
   ]
  },
  {
   "cell_type": "code",
   "execution_count": 20,
   "metadata": {},
   "outputs": [],
   "source": [
    "def lemmatisation(text):\n",
    "    parser = ListParser()\n",
    "    stemmer = Morfologik()\n",
    "    stemming = stemmer.stem([text], parser)\n",
    "    words_list = list()\n",
    "    for s in stemming:\n",
    "        for i in s:\n",
    "            for l in i:\n",
    "                if(len(l) > 1):\n",
    "                    words_list.append(l.encode('utf8'))\n",
    "    return words_list"
   ]
  },
  {
   "cell_type": "code",
   "execution_count": 21,
   "metadata": {},
   "outputs": [],
   "source": [
    "def lemmatisation_dictParser(text):\n",
    "    parser = DictParser()\n",
    "    stemmer = Morfologik()\n",
    "    stemming = stemmer.stem([text], parser)\n",
    "    words_list = list()\n",
    "    for key, val in stemming.items():\n",
    "        words_list.append(val[0].encode('utf8'))\n",
    "    return words_list"
   ]
  },
  {
   "cell_type": "code",
   "execution_count": 22,
   "metadata": {},
   "outputs": [],
   "source": [
    "emotions = pd.read_csv('emotionsTable-with-neutralEmotion.csv')\n",
    "def detectingEmotionsInText(words_list):\n",
    "    numberOfWords = len(words_list)\n",
    "    numberOfWordsFound = 0\n",
    "    result = 0\n",
    "    if(numberOfWords > 0):\n",
    "        emotionsCounter = 0\n",
    "        for el in words_list: \n",
    "            if((emotions['word'] == el)).any():\n",
    "                print(el)\n",
    "                emotionsCounter += float(emotions.loc[emotions['word'] == el]['sentiment'].mean())  \n",
    "                numberOfWordsFound = numberOfWordsFound + 1\n",
    "        result = emotionsCounter/numberOfWords\n",
    "    return [result, numberOfWordsFound]"
   ]
  },
  {
   "cell_type": "code",
   "execution_count": null,
   "metadata": {},
   "outputs": [],
   "source": [
    "%%time\n",
    "import sys\n",
    "import re\n",
    "reload(sys)\n",
    "sys.setdefaultencoding('utf-8')\n",
    "\n",
    "result = pd.read_csv('mediaKrytyk-commentsRates.csv')\n",
    "result = result.reset_index()\n",
    "\n",
    "def calculateOneRow(index,comment, emotion, rate):\n",
    "    lemmatisation_text = re.sub(\"[!#$%&\\'()*+,-./:;<=>?@[\\\\]^_`{|}~']\", '', comment)\n",
    "    text = lemmatisation(lemmatisation_text)\n",
    "    [result, number] = detectingEmotionsInText(text)\n",
    "    result_emotion = getEmotionStatusOfText(result)\n",
    "    return {\"text\": comment, 'words': len(comment.split()), 'wordsFound': number, \"resultOfDetecting\": result, \"detectedEmotion\": result_emotion, 'emotion': emotion, 'rate': rate}\n",
    "\n",
    "def parallelize(data, func):\n",
    "    print (partitions)\n",
    "    data_split = np.array_split(data, partitions)\n",
    "    pool = Pool(cores)\n",
    "    mapResult = pool.map(func, data_split)\n",
    "    data = pd.concat(mapResult)\n",
    "    pool.close()\n",
    "    pool.join()\n",
    "    return data\n",
    "\n",
    "cores = cpu_count()\n",
    "partitions = cores\n",
    "\n",
    "ddata = dd.from_pandas(result, npartitions=partitions)\n",
    "\n",
    "result = ddata.map_partitions(lambda df: df.apply((lambda row: calculateOneRow(*row)), axis=1)).compute(get=get)\n",
    "result_df = pd.DataFrame()\n",
    "for o in result:\n",
    "    result_df = result_df.append(o, ignore_index=True)\n",
    "    \n",
    "result_df.to_csv('mediaKrytyk-comments-analysis.csv', encoding='utf-8', index=False) "
   ]
  },
  {
   "cell_type": "code",
   "execution_count": null,
   "metadata": {},
   "outputs": [],
   "source": [
    "result_df['correct_guess'] = result_df['detectedEmotion'] == result_df['emotion']"
   ]
  },
  {
   "cell_type": "code",
   "execution_count": null,
   "metadata": {},
   "outputs": [],
   "source": [
    "result_df.groupby('correct_guess').size()"
   ]
  },
  {
   "cell_type": "code",
   "execution_count": null,
   "metadata": {},
   "outputs": [],
   "source": [
    "def changeRangeOfComments(maximumNegativeRate, mimimumPositiveRate, comments):\n",
    "    comments = comments[(comments.rate <= maximumNegativeRate) | (comments.rate >= mimimumPositiveRate)]\n",
    "    comments = comments.reset_index()\n",
    "    return comments"
   ]
  },
  {
   "cell_type": "code",
   "execution_count": null,
   "metadata": {},
   "outputs": [],
   "source": [
    "#tylko z ocena 1 i 10\n",
    "results = changeRangeOfComments(1, 10, result_df)"
   ]
  },
  {
   "cell_type": "code",
   "execution_count": null,
   "metadata": {},
   "outputs": [],
   "source": [
    "results.groupby('correct_guess').size()"
   ]
  },
  {
   "cell_type": "code",
   "execution_count": null,
   "metadata": {},
   "outputs": [],
   "source": [
    "def printResults(result_df):\n",
    "    print('Number of correct guess: ')\n",
    "    print(len(result_df.loc[result_df['correct_guess'] == True]))\n",
    "    print('Number of wrong guess: ')\n",
    "    print(len(result_df.loc[result_df['correct_guess'] == False]))"
   ]
  },
  {
   "cell_type": "code",
   "execution_count": null,
   "metadata": {},
   "outputs": [],
   "source": [
    "def get_length(text):\n",
    "    return len(text)\n",
    "\n",
    "def get_length_bin(length):\n",
    "    return round(length / 10)\n",
    "\n",
    "def get_score(result):\n",
    "    return 1 if result else 0\n",
    "\n",
    "def prepereDataForPlot(result_df):\n",
    "    result_df['correct_guess'] = result_df['detectedEmotion'] == result_df['emotion']\n",
    "    result_df['score'] = map(get_score, result_df['correct_guess'])\n",
    "    #create group with 10 elements\n",
    "    result_df['text_length_bin'] = map(get_length_bin, result_df['words'])    \n",
    "    return result_df"
   ]
  },
  {
   "cell_type": "code",
   "execution_count": null,
   "metadata": {},
   "outputs": [],
   "source": [
    "def createPlotTextLength(result_df):\n",
    "    # data to plot\n",
    "    n_groups = round(result_df['text_length_bin'].max())\n",
    "    \n",
    "    grouped = result_df.groupby('text_length_bin', as_index=False).mean()\n",
    "    sum_elements = grouped.words\n",
    "    means_words = grouped.words/sum_elements\n",
    "    means_lemmatisation = grouped.wordsAfterLemmatisation/sum_elements\n",
    "    means_emotions = grouped.wordsFound/sum_elements\n",
    "\n",
    "    # create plot\n",
    "    fig, ax = plt.subplots()\n",
    "    index = [0., 1., 2., 3., 4., 5., 6., 7.]\n",
    "    bar_width = 0.35\n",
    "    opacity = 0.5\n",
    "\n",
    "    rects1 = plt.bar(index, means_words, bar_width,\n",
    "                 alpha=opacity,\n",
    "                 color='b')\n",
    "\n",
    "    rects2 = plt.bar(index, means_lemmatisation, bar_width,\n",
    "                 alpha=opacity,\n",
    "                 color='g')\n",
    "    \n",
    "    rects2 = plt.bar(index, means_emotions, bar_width,\n",
    "                 alpha=opacity,\n",
    "                 color='c')\n",
    "\n",
    "    plt.xlabel('Lenght of text')\n",
    "    plt.ylabel('Percent')\n",
    "    #plt.title('Scores by person')\n",
    "    plt.xticks(index, ('10', '20', '30', '40', '50', '60', '70', '80'))\n",
    "    plt.legend()\n",
    "\n",
    "    plt.tight_layout()\n",
    "    plt.show()"
   ]
  },
  {
   "cell_type": "code",
   "execution_count": null,
   "metadata": {},
   "outputs": [],
   "source": [
    "result_df = prepereDataForPlot(result_df)"
   ]
  },
  {
   "cell_type": "code",
   "execution_count": null,
   "metadata": {},
   "outputs": [],
   "source": [
    "createPlotTextLength(result_df)"
   ]
  },
  {
   "cell_type": "code",
   "execution_count": null,
   "metadata": {},
   "outputs": [],
   "source": [
    "grouped = result_df.groupby('text_length_bin', as_index=False).mean() "
   ]
  },
  {
   "cell_type": "code",
   "execution_count": null,
   "metadata": {},
   "outputs": [],
   "source": [
    "grouped"
   ]
  },
  {
   "cell_type": "code",
   "execution_count": null,
   "metadata": {},
   "outputs": [],
   "source": [
    "def createPlotRates(result_df):\n",
    "    # data to plot\n",
    "    result_df = result_df.round({'rate': 0})\n",
    "    n_groups = result_df.rate.max()\n",
    "    \n",
    "    grouped = result_df.groupby('rate', as_index=False).mean()\n",
    "    means_words = grouped.words/grouped.words\n",
    "    means_lemmatisation = grouped.wordsAfterLemmatisation/grouped.words\n",
    "    means_emotions = grouped.wordsFound/grouped.words\n",
    "\n",
    "    # create plot\n",
    "    fig, ax = plt.subplots()\n",
    "    index = [0., 1., 2., 3., 4., 5., 6., 7., 8., 9., 10.]\n",
    "    bar_width = 0.35\n",
    "    opacity = 0.5\n",
    "\n",
    "    rects1 = plt.bar(index, means_words, bar_width,\n",
    "                 alpha=opacity,\n",
    "                 color='b')\n",
    "\n",
    "    rects2 = plt.bar(index, means_lemmatisation, bar_width,\n",
    "                 alpha=opacity,\n",
    "                 color='g')\n",
    "    \n",
    "    rects2 = plt.bar(index, means_emotions, bar_width,\n",
    "                 alpha=opacity,\n",
    "                 color='c')\n",
    "\n",
    "    plt.xlabel('Rates')\n",
    "    plt.ylabel('Percent')\n",
    "    #plt.title('Scores by person')\n",
    "    plt.xticks(index, ('1', '2', '3', '4', '5', '6', '7', '8', '9', '10'))\n",
    "    plt.legend()\n",
    "\n",
    "    plt.tight_layout()\n",
    "    plt.show()"
   ]
  },
  {
   "cell_type": "code",
   "execution_count": null,
   "metadata": {},
   "outputs": [],
   "source": [
    "createPlotRates(result_df)"
   ]
  },
  {
   "cell_type": "code",
   "execution_count": null,
   "metadata": {},
   "outputs": [],
   "source": [
    "result_rates = result_df.round({'rate': 0})\n",
    "grouped = result_rates.groupby('rate', as_index=False).mean()"
   ]
  },
  {
   "cell_type": "code",
   "execution_count": null,
   "metadata": {},
   "outputs": [],
   "source": [
    "#subst - rzeczownik, adj - przymiotnik, verb - czasownik, nom - mianownik, inf - bezokolicznik"
   ]
  },
  {
   "cell_type": "code",
   "execution_count": null,
   "metadata": {
    "scrolled": true
   },
   "outputs": [],
   "source": [
    "def devide(number):\n",
    "    return number/2\n",
    "\n",
    "def moreThenHalf(result_df):\n",
    "    result_df['half_wordsAfterLemmatisation'] = map(devide, result_df['wordsAfterLemmatisation'])\n",
    "    result_df['moreThenHalf'] = 0\n",
    "    result_df['moreThenHalf'] = np.where(((result_df['wordsFound'] >= result_df['half_wordsAfterLemmatisation']) & (result_df['half_wordsAfterLemmatisation'] > 0) & (result_df['wordsFound'] > 0)), 1 , 0)\n",
    "    return result_df"
   ]
  },
  {
   "cell_type": "code",
   "execution_count": null,
   "metadata": {},
   "outputs": [],
   "source": [
    "tym = moreThenHalf(result_df)\n",
    "tym.groupby('moreThenHalf').size()"
   ]
  },
  {
   "cell_type": "code",
   "execution_count": null,
   "metadata": {},
   "outputs": [],
   "source": [
    "review_less = tym.loc[tym['moreThenHalf'] == 1]\n",
    "review_less['correct_guess'] = review_less['detectedEmotion'] == review_less['emotion']\n",
    "review_less.groupby('correct_guess').size()"
   ]
  },
  {
   "cell_type": "code",
   "execution_count": 9,
   "metadata": {},
   "outputs": [
    {
     "data": {
      "text/plain": [
       "[-0.10130718954248366, 24]"
      ]
     },
     "execution_count": 9,
     "metadata": {},
     "output_type": "execute_result"
    }
   ],
   "source": [
    "detectingEmotionsInText('Adam McKay zrealizował film swojego życia. Najambitniejszy, imponujący tempem, jednak bardzo przystępny i zrozumiały nawet dla takiego laika jak ja.')"
   ]
  },
  {
   "cell_type": "code",
   "execution_count": 10,
   "metadata": {},
   "outputs": [],
   "source": [
    "text = 'Adam McKay zrealizował film swojego życia. Najambitniejszy, imponujący tempem, jednak bardzo przystępny i zrozumiały nawet dla takiego laika jak ja.'"
   ]
  },
  {
   "cell_type": "code",
   "execution_count": 14,
   "metadata": {},
   "outputs": [
    {
     "data": {
      "text/plain": [
       "20"
      ]
     },
     "execution_count": 14,
     "metadata": {},
     "output_type": "execute_result"
    }
   ],
   "source": [
    "len(text.split())"
   ]
  },
  {
   "cell_type": "code",
   "execution_count": 12,
   "metadata": {},
   "outputs": [],
   "source": [
    "text = re.sub(\"[!#$%&\\'()*+,-./:;<=>?@[\\\\]^_`{|}~']\", '', text)"
   ]
  },
  {
   "cell_type": "code",
   "execution_count": 17,
   "metadata": {},
   "outputs": [
    {
     "data": {
      "text/plain": [
       "[-0.1040268456375839, 24]"
      ]
     },
     "execution_count": 17,
     "metadata": {},
     "output_type": "execute_result"
    }
   ],
   "source": [
    "detectingEmotionsInText(text)"
   ]
  },
  {
   "cell_type": "code",
   "execution_count": 25,
   "metadata": {},
   "outputs": [
    {
     "data": {
      "text/html": [
       "<div>\n",
       "<style scoped>\n",
       "    .dataframe tbody tr th:only-of-type {\n",
       "        vertical-align: middle;\n",
       "    }\n",
       "\n",
       "    .dataframe tbody tr th {\n",
       "        vertical-align: top;\n",
       "    }\n",
       "\n",
       "    .dataframe thead th {\n",
       "        text-align: right;\n",
       "    }\n",
       "</style>\n",
       "<table border=\"1\" class=\"dataframe\">\n",
       "  <thead>\n",
       "    <tr style=\"text-align: right;\">\n",
       "      <th></th>\n",
       "      <th>detectedEmotion</th>\n",
       "      <th>emotion</th>\n",
       "      <th>rate</th>\n",
       "      <th>resultOfDetecting</th>\n",
       "      <th>text</th>\n",
       "      <th>words</th>\n",
       "      <th>wordsFound</th>\n",
       "    </tr>\n",
       "  </thead>\n",
       "  <tbody>\n",
       "    <tr>\n",
       "      <th>0</th>\n",
       "      <td>positive</td>\n",
       "      <td>positive</td>\n",
       "      <td>9.0</td>\n",
       "      <td>0.260870</td>\n",
       "      <td>Adam McKay zrealizował film swojego życia. Naj...</td>\n",
       "      <td>20.0</td>\n",
       "      <td>8.0</td>\n",
       "    </tr>\n",
       "    <tr>\n",
       "      <th>1</th>\n",
       "      <td>neutral</td>\n",
       "      <td>positive</td>\n",
       "      <td>9.0</td>\n",
       "      <td>0.000000</td>\n",
       "      <td>Ten film tak mnie oczarował, że zapomniałem o ...</td>\n",
       "      <td>33.0</td>\n",
       "      <td>9.0</td>\n",
       "    </tr>\n",
       "    <tr>\n",
       "      <th>2</th>\n",
       "      <td>neutral</td>\n",
       "      <td>positive</td>\n",
       "      <td>9.0</td>\n",
       "      <td>0.000000</td>\n",
       "      <td>Poza nietypowym wykładem, pozostaje także wyśm...</td>\n",
       "      <td>8.0</td>\n",
       "      <td>0.0</td>\n",
       "    </tr>\n",
       "    <tr>\n",
       "      <th>3</th>\n",
       "      <td>negative</td>\n",
       "      <td>positive</td>\n",
       "      <td>9.0</td>\n",
       "      <td>-0.015625</td>\n",
       "      <td>Nie jest filmem łatwym, w żadnym wypadku. Jest...</td>\n",
       "      <td>31.0</td>\n",
       "      <td>10.0</td>\n",
       "    </tr>\n",
       "    <tr>\n",
       "      <th>4</th>\n",
       "      <td>negative</td>\n",
       "      <td>positive</td>\n",
       "      <td>9.0</td>\n",
       "      <td>-0.047619</td>\n",
       "      <td>Czar Big Short nie minie do momentu, aż poznam...</td>\n",
       "      <td>15.0</td>\n",
       "      <td>2.0</td>\n",
       "    </tr>\n",
       "    <tr>\n",
       "      <th>5</th>\n",
       "      <td>negative</td>\n",
       "      <td>positive</td>\n",
       "      <td>9.0</td>\n",
       "      <td>-0.033333</td>\n",
       "      <td>Wręcz genialny film, wykorzystujący inne ujęci...</td>\n",
       "      <td>15.0</td>\n",
       "      <td>5.0</td>\n",
       "    </tr>\n",
       "    <tr>\n",
       "      <th>6</th>\n",
       "      <td>negative</td>\n",
       "      <td>positive</td>\n",
       "      <td>9.0</td>\n",
       "      <td>-0.095238</td>\n",
       "      <td>Niesie duże wartości edukacyjne i przedstawia ...</td>\n",
       "      <td>27.0</td>\n",
       "      <td>8.0</td>\n",
       "    </tr>\n",
       "    <tr>\n",
       "      <th>7</th>\n",
       "      <td>positive</td>\n",
       "      <td>positive</td>\n",
       "      <td>8.5</td>\n",
       "      <td>0.090909</td>\n",
       "      <td>Z pewnością nie jest filmem, na który można si...</td>\n",
       "      <td>28.0</td>\n",
       "      <td>12.0</td>\n",
       "    </tr>\n",
       "    <tr>\n",
       "      <th>8</th>\n",
       "      <td>negative</td>\n",
       "      <td>positive</td>\n",
       "      <td>8.5</td>\n",
       "      <td>-0.166667</td>\n",
       "      <td>Świetny film o kruchym i skorumpowanym rynku.</td>\n",
       "      <td>7.0</td>\n",
       "      <td>2.0</td>\n",
       "    </tr>\n",
       "    <tr>\n",
       "      <th>9</th>\n",
       "      <td>positive</td>\n",
       "      <td>positive</td>\n",
       "      <td>8.5</td>\n",
       "      <td>0.216667</td>\n",
       "      <td>Filmowa perełka, która gdyby życie i świat był...</td>\n",
       "      <td>13.0</td>\n",
       "      <td>4.0</td>\n",
       "    </tr>\n",
       "  </tbody>\n",
       "</table>\n",
       "</div>"
      ],
      "text/plain": [
       "  detectedEmotion   emotion  rate  resultOfDetecting  \\\n",
       "0        positive  positive   9.0           0.260870   \n",
       "1         neutral  positive   9.0           0.000000   \n",
       "2         neutral  positive   9.0           0.000000   \n",
       "3        negative  positive   9.0          -0.015625   \n",
       "4        negative  positive   9.0          -0.047619   \n",
       "5        negative  positive   9.0          -0.033333   \n",
       "6        negative  positive   9.0          -0.095238   \n",
       "7        positive  positive   8.5           0.090909   \n",
       "8        negative  positive   8.5          -0.166667   \n",
       "9        positive  positive   8.5           0.216667   \n",
       "\n",
       "                                                text  words  wordsFound  \n",
       "0  Adam McKay zrealizował film swojego życia. Naj...   20.0         8.0  \n",
       "1  Ten film tak mnie oczarował, że zapomniałem o ...   33.0         9.0  \n",
       "2  Poza nietypowym wykładem, pozostaje także wyśm...    8.0         0.0  \n",
       "3  Nie jest filmem łatwym, w żadnym wypadku. Jest...   31.0        10.0  \n",
       "4  Czar Big Short nie minie do momentu, aż poznam...   15.0         2.0  \n",
       "5  Wręcz genialny film, wykorzystujący inne ujęci...   15.0         5.0  \n",
       "6  Niesie duże wartości edukacyjne i przedstawia ...   27.0         8.0  \n",
       "7  Z pewnością nie jest filmem, na który można si...   28.0        12.0  \n",
       "8      Świetny film o kruchym i skorumpowanym rynku.    7.0         2.0  \n",
       "9  Filmowa perełka, która gdyby życie i świat był...   13.0         4.0  "
      ]
     },
     "execution_count": 25,
     "metadata": {},
     "output_type": "execute_result"
    }
   ],
   "source": [
    "result_df"
   ]
  },
  {
   "cell_type": "code",
   "execution_count": null,
   "metadata": {},
   "outputs": [],
   "source": []
  }
 ],
 "metadata": {
  "kernelspec": {
   "display_name": "Python 2",
   "language": "python",
   "name": "python2"
  },
  "language_info": {
   "codemirror_mode": {
    "name": "ipython",
    "version": 2
   },
   "file_extension": ".py",
   "mimetype": "text/x-python",
   "name": "python",
   "nbconvert_exporter": "python",
   "pygments_lexer": "ipython2",
   "version": "2.7.14"
  }
 },
 "nbformat": 4,
 "nbformat_minor": 2
}

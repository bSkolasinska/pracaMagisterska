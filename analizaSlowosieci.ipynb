{
 "cells": [
  {
   "cell_type": "code",
   "execution_count": 1,
   "metadata": {},
   "outputs": [],
   "source": [
    "import pandas as pd\n",
    "import os\n",
    "import sys\n",
    "module_path = os.path.abspath(os.path.join('/Users/balbi/Downloads/pyMorfologik-master'))\n",
    "if module_path not in sys.path:\n",
    "    sys.path.append(module_path)\n",
    "from pymorfologik import Morfologik\n",
    "from pymorfologik.parsing import ListParser\n",
    "from pymorfologik.parsing import BaseParser\n",
    "from pymorfologik.parsing import DictParser\n",
    "\n",
    "import numpy as np\n",
    "from __future__ import print_function\n",
    "import string\n",
    "from multiprocessing import cpu_count, Pool\n",
    "import dask.dataframe as dd\n",
    "from dask.multiprocessing import get\n",
    "import matplotlib.pyplot as plt\n",
    "%matplotlib inline"
   ]
  },
  {
   "cell_type": "code",
   "execution_count": 13,
   "metadata": {},
   "outputs": [
    {
     "data": {
      "text/plain": [
       "Series([], Name: word, dtype: object)"
      ]
     },
     "execution_count": 13,
     "metadata": {},
     "output_type": "execute_result"
    }
   ],
   "source": [
    "def getEmotionStatusOfText(result):\n",
    "    if(result < 0):\n",
    "        return 'negative'\n",
    "    elif(result > 0):\n",
    "        return 'positive'\n",
    "    else:\n",
    "        return 'neutral'"
   ]
  },
  {
   "cell_type": "code",
   "execution_count": null,
   "metadata": {},
   "outputs": [],
   "source": [
    "def lemmatisation_dictParser(text):\n",
    "    parser = DictParser()\n",
    "    stemmer = Morfologik()\n",
    "    stemming = stemmer.stem([text], parser)\n",
    "    words_list = list()\n",
    "    for key, val in stemming.items():\n",
    "        words_list.append(val[0].encode('utf8'))\n",
    "    return words_list"
   ]
  },
  {
   "cell_type": "code",
   "execution_count": null,
   "metadata": {},
   "outputs": [],
   "source": [
    "emotions = pd.read_csv('emotionsTable-with-neutralEmotion.csv')\n",
    "def detectingEmotionsInText(words_list):\n",
    "    numberOfWords = len(words_list)\n",
    "    numberOfWordsFound = 0\n",
    "    result = 0\n",
    "    if(numberOfWords > 0):\n",
    "        emotionsCounter = 0\n",
    "        for el in words_list: \n",
    "            if((emotions['word'] == el)).any():\n",
    "                print(el)\n",
    "                emotionsCounter += float(emotions.loc[emotions['word'] == el]['sentiment'].mean())  \n",
    "                numberOfWordsFound = numberOfWordsFound + 1\n",
    "        result = emotionsCounter/numberOfWords\n",
    "    return [result, numberOfWordsFound]"
   ]
  },
  {
   "cell_type": "code",
   "execution_count": null,
   "metadata": {},
   "outputs": [],
   "source": [
    "%%time\n",
    "import sys\n",
    "import re\n",
    "reload(sys)\n",
    "sys.setdefaultencoding('utf-8')\n",
    "\n",
    "result = pd.read_csv('mediaKrytyk-commentsRates.csv')\n",
    "result = result.reset_index()\n",
    "\n",
    "def calculateOneRow(index,comment, emotion, rate):\n",
    "    lemmatisation_text = re.sub(\"[!#$%&\\'()*+,-./:;<=>?@[\\\\]^_`{|}~']\", '', comment)\n",
    "    text = lemmatisation_dictParser(lemmatisation_text)\n",
    "    [result, number] = detectingEmotionsInText(text)\n",
    "    result_emotion = getEmotionStatusOfText(result)\n",
    "    return {\"text\": comment, 'words': len(comment.split()), 'wordsFound': number, \"resultOfDetecting\": result, \"detectedEmotion\": result_emotion, 'emotion': emotion, 'rate': rate}\n",
    "\n",
    "def parallelize(data, func):\n",
    "    print (partitions)\n",
    "    data_split = np.array_split(data, partitions)\n",
    "    pool = Pool(cores)\n",
    "    mapResult = pool.map(func, data_split)\n",
    "    data = pd.concat(mapResult)\n",
    "    pool.close()\n",
    "    pool.join()\n",
    "    return data\n",
    "\n",
    "cores = cpu_count()\n",
    "partitions = cores\n",
    "\n",
    "ddata = dd.from_pandas(result, npartitions=partitions)\n",
    "\n",
    "result = ddata.map_partitions(lambda df: df.apply((lambda row: calculateOneRow(*row)), axis=1)).compute(get=get)\n",
    "result_df = pd.DataFrame()\n",
    "for o in result:\n",
    "    result_df = result_df.append(o, ignore_index=True)\n",
    "    \n",
    "result_df.to_csv('mediaKrytyk-comments-analysis-dictParser.csv', encoding='utf-8', index=False) "
   ]
  },
  {
   "cell_type": "code",
   "execution_count": null,
   "metadata": {},
   "outputs": [],
   "source": []
  },
  {
   "cell_type": "code",
   "execution_count": null,
   "metadata": {},
   "outputs": [],
   "source": []
  },
  {
   "cell_type": "code",
   "execution_count": null,
   "metadata": {},
   "outputs": [],
   "source": []
  },
  {
   "cell_type": "code",
   "execution_count": null,
   "metadata": {},
   "outputs": [],
   "source": []
  }
 ],
 "metadata": {
  "kernelspec": {
   "display_name": "Python 2",
   "language": "python",
   "name": "python2"
  },
  "language_info": {
   "codemirror_mode": {
    "name": "ipython",
    "version": 2
   },
   "file_extension": ".py",
   "mimetype": "text/x-python",
   "name": "python",
   "nbconvert_exporter": "python",
   "pygments_lexer": "ipython2",
   "version": "2.7.14"
  }
 },
 "nbformat": 4,
 "nbformat_minor": 2
}

{
 "cells": [
  {
   "cell_type": "code",
   "execution_count": 170,
   "metadata": {},
   "outputs": [],
   "source": [
    "import sys\n",
    "import os\n",
    "import time\n",
    "import pandas as pd\n",
    "import numpy as np\n",
    "import collections\n",
    "\n",
    "from sklearn.feature_extraction.text import TfidfVectorizer\n",
    "from sklearn import svm\n",
    "from sklearn.metrics import classification_report\n",
    "#from sklearn.model_selection import ShuffleSplit\n",
    "from sklearn.model_selection import StratifiedKFold\n",
    "#from sklearn.model_selection import RepeatedStratifiedKFold"
   ]
  },
  {
   "cell_type": "code",
   "execution_count": 181,
   "metadata": {},
   "outputs": [],
   "source": [
    "iterations = 3\n",
    "test_size = 0.8\n",
    "random_state = 0\n"
   ]
  },
  {
   "cell_type": "code",
   "execution_count": 182,
   "metadata": {},
   "outputs": [],
   "source": [
    "def classifaction_report_dataFrame(report):\n",
    "    report_data = []\n",
    "    lines = report.split('\\n')\n",
    "    for line in lines[2:-3]:\n",
    "        row = {}\n",
    "        row_data = line.split('      ')\n",
    "        row['class'] = row_data[0]\n",
    "        row['precision'] = float(row_data[1])\n",
    "        row['recall'] = float(row_data[2])\n",
    "        row['f1_score'] = float(row_data[3])\n",
    "        row['support'] = float(row_data[4])\n",
    "        report_data.append(row)\n",
    "    return report_data"
   ]
  },
  {
   "cell_type": "code",
   "execution_count": 183,
   "metadata": {},
   "outputs": [
    {
     "name": "stdout",
     "output_type": "stream",
     "text": [
      "number of dataset: 3\n",
      "Training data:\n",
      "Counter({'positive': 2047, 'negative': 924})\n",
      "Test data:\n",
      "Counter({'positive': 1023, 'negative': 461})\n"
     ]
    }
   ],
   "source": [
    "data = np.empty((0))\n",
    "data_labels = np.empty((0))\n",
    "\n",
    "precision_positive = 0\n",
    "recall_positive = 0\n",
    "f1score_positive = 0\n",
    "\n",
    "precision_negative = 0\n",
    "recall_negative = 0\n",
    "f1score_negative = 0\n",
    "\n",
    "\n",
    "comments = pd.read_csv('FilmWeb-commentsRates.csv')\n",
    "comments = comments.reset_index()\n",
    "comments.loc[comments.emotion == 'neutral', 'emotion'] = \"negative\"\n",
    "comments.groupby(['emotion']).size()\n",
    "for index, comment in comments.iterrows():\n",
    "    data = np.append(data, comment['Text'])\n",
    "    data_labels = np.append(data_labels, comment['emotion'])\n",
    "\n",
    "\n",
    "print 'number of dataset: ' + str(iterations)\n",
    "report_data_Linear = pd.DataFrame()\n",
    "report_data_Liblinear = pd.DataFrame()\n",
    "\n",
    "#Some classification problems can exhibit a large imbalance in the distribution of the target classes: \n",
    "#for instance there could be several times more negative samples than positive samples.\n",
    "#StratifiedKFold is a variation of k-fold which returns stratified folds: each set contains approximately \n",
    "#the same percentage of samples of each target class as the complete set.\n",
    "#K-krotna walidacja\n",
    "sss = StratifiedKFold(n_splits=iterations)\n",
    "for train_index, test_index in sss.split(data, data_labels):\n",
    "    train_data, test_data = data[train_index], data[test_index]\n",
    "    train_labels, test_labels = data_labels[train_index], data_labels[test_index]\n",
    "\n",
    "    # Create feature vectors\n",
    "    vectorizer = TfidfVectorizer(min_df=5,max_df = 0.8,sublinear_tf=True,use_idf=True)\n",
    "    train_vectors = vectorizer.fit_transform(train_data)\n",
    "    test_vectors = vectorizer.transform(test_data)\n",
    "\n",
    "    # Perform classification with SVM, kernel=linear\n",
    "    classifier_linear = svm.SVC(kernel='linear')\n",
    "    t0 = time.time()\n",
    "    classifier_linear.fit(train_vectors, train_labels)\n",
    "    t1 = time.time()\n",
    "    prediction_linear = classifier_linear.predict(test_vectors)\n",
    "    t2 = time.time()\n",
    "    time_linear_train = t1-t0\n",
    "    time_linear_predict = t2-t1\n",
    "\n",
    "    # Perform classification with SVM, kernel=linear\n",
    "    classifier_liblinear = svm.LinearSVC()\n",
    "    t0 = time.time()\n",
    "    classifier_liblinear.fit(train_vectors, train_labels)\n",
    "    t1 = time.time()\n",
    "    prediction_liblinear = classifier_liblinear.predict(test_vectors)\n",
    "    t2 = time.time()\n",
    "    time_liblinear_train = t1-t0\n",
    "    time_liblinear_predict = t2-t1\n",
    "\n",
    "    reportLinear = classification_report(test_labels, prediction_linear)\n",
    "    reportLiblinear = classification_report(test_labels, prediction_liblinear)\n",
    "\n",
    "    classifications_report_Linear = classifaction_report_dataFrame(reportLinear)\n",
    "    report_data_Linear.append(classifications_report_Linear)\n",
    "    classifications_report_Liblinear = classifaction_report_dataFrame(reportLiblinear)\n",
    "    report_data_Liblinear.append(classifications_report_Liblinear)\n",
    "    \n",
    "print 'Training data:'\n",
    "counter=collections.Counter(train_labels)\n",
    "print(counter)\n",
    "\n",
    "print 'Test data:'\n",
    "counter=collections.Counter(test_labels)\n",
    "print(counter)"
   ]
  },
  {
   "cell_type": "code",
   "execution_count": 184,
   "metadata": {},
   "outputs": [
    {
     "data": {
      "text/html": [
       "<div>\n",
       "<style scoped>\n",
       "    .dataframe tbody tr th:only-of-type {\n",
       "        vertical-align: middle;\n",
       "    }\n",
       "\n",
       "    .dataframe tbody tr th {\n",
       "        vertical-align: top;\n",
       "    }\n",
       "\n",
       "    .dataframe thead th {\n",
       "        text-align: right;\n",
       "    }\n",
       "</style>\n",
       "<table border=\"1\" class=\"dataframe\">\n",
       "  <thead>\n",
       "    <tr style=\"text-align: right;\">\n",
       "      <th></th>\n",
       "    </tr>\n",
       "  </thead>\n",
       "  <tbody>\n",
       "  </tbody>\n",
       "</table>\n",
       "</div>"
      ],
      "text/plain": [
       "Empty DataFrame\n",
       "Columns: []\n",
       "Index: []"
      ]
     },
     "execution_count": 184,
     "metadata": {},
     "output_type": "execute_result"
    }
   ],
   "source": [
    "report_data_Linear"
   ]
  },
  {
   "cell_type": "code",
   "execution_count": null,
   "metadata": {},
   "outputs": [],
   "source": []
  },
  {
   "cell_type": "code",
   "execution_count": 67,
   "metadata": {},
   "outputs": [
    {
     "name": "stdout",
     "output_type": "stream",
     "text": [
      "Results for SVC(kernel=rbf)\n",
      "Training time: 2.440635s; Prediction time: 0.266033s\n",
      "             precision    recall  f1-score   support\n",
      "\n",
      "   negative       0.00      0.00      0.00       171\n",
      "   positive       0.62      1.00      0.76       274\n",
      "\n",
      "avg / total       0.38      0.62      0.47       445\n",
      "\n"
     ]
    }
   ],
   "source": [
    "# Print results in a nice table\n",
    "    print(\"Results for SVC(kernel=linear)\")\n",
    "    print(\"Training time: %fs; Prediction time: %fs\" % (time_linear_train, time_linear_predict))\n",
    "    print(classification_report(test_labels, prediction_linear))\n",
    "    print(\"Results for LinearSVC()\")\n",
    "    print(\"Training time: %fs; Prediction time: %fs\" % (time_liblinear_train, time_liblinear_predict))\n",
    "    print(classification_report(test_labels, prediction_liblinear))"
   ]
  },
  {
   "cell_type": "code",
   "execution_count": null,
   "metadata": {},
   "outputs": [],
   "source": []
  },
  {
   "cell_type": "code",
   "execution_count": null,
   "metadata": {},
   "outputs": [],
   "source": []
  },
  {
   "cell_type": "code",
   "execution_count": null,
   "metadata": {},
   "outputs": [],
   "source": []
  },
  {
   "cell_type": "code",
   "execution_count": null,
   "metadata": {},
   "outputs": [],
   "source": []
  },
  {
   "cell_type": "code",
   "execution_count": null,
   "metadata": {},
   "outputs": [],
   "source": []
  },
  {
   "cell_type": "code",
   "execution_count": null,
   "metadata": {},
   "outputs": [],
   "source": []
  },
  {
   "cell_type": "code",
   "execution_count": null,
   "metadata": {},
   "outputs": [],
   "source": []
  },
  {
   "cell_type": "code",
   "execution_count": null,
   "metadata": {},
   "outputs": [],
   "source": []
  },
  {
   "cell_type": "code",
   "execution_count": null,
   "metadata": {},
   "outputs": [],
   "source": []
  },
  {
   "cell_type": "code",
   "execution_count": null,
   "metadata": {},
   "outputs": [],
   "source": []
  },
  {
   "cell_type": "code",
   "execution_count": null,
   "metadata": {},
   "outputs": [],
   "source": []
  },
  {
   "cell_type": "code",
   "execution_count": null,
   "metadata": {},
   "outputs": [],
   "source": []
  },
  {
   "cell_type": "code",
   "execution_count": null,
   "metadata": {},
   "outputs": [],
   "source": []
  },
  {
   "cell_type": "code",
   "execution_count": null,
   "metadata": {},
   "outputs": [],
   "source": []
  },
  {
   "cell_type": "code",
   "execution_count": null,
   "metadata": {},
   "outputs": [],
   "source": []
  },
  {
   "cell_type": "code",
   "execution_count": null,
   "metadata": {},
   "outputs": [],
   "source": []
  },
  {
   "cell_type": "code",
   "execution_count": null,
   "metadata": {},
   "outputs": [],
   "source": []
  },
  {
   "cell_type": "code",
   "execution_count": null,
   "metadata": {},
   "outputs": [],
   "source": []
  },
  {
   "cell_type": "code",
   "execution_count": null,
   "metadata": {},
   "outputs": [],
   "source": []
  },
  {
   "cell_type": "code",
   "execution_count": null,
   "metadata": {},
   "outputs": [],
   "source": []
  },
  {
   "cell_type": "code",
   "execution_count": null,
   "metadata": {},
   "outputs": [],
   "source": []
  }
 ],
 "metadata": {
  "kernelspec": {
   "display_name": "Python 2",
   "language": "python",
   "name": "python2"
  },
  "language_info": {
   "codemirror_mode": {
    "name": "ipython",
    "version": 2
   },
   "file_extension": ".py",
   "mimetype": "text/x-python",
   "name": "python",
   "nbconvert_exporter": "python",
   "pygments_lexer": "ipython2",
   "version": "2.7.14"
  }
 },
 "nbformat": 4,
 "nbformat_minor": 2
}

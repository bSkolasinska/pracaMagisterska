{
 "cells": [
  {
   "cell_type": "code",
   "execution_count": null,
   "metadata": {},
   "outputs": [],
   "source": [
    "import sys\n",
    "import os\n",
    "import time\n",
    "import pandas as pd\n",
    "import numpy as np\n",
    "import collections\n",
    "\n",
    "from sklearn.feature_extraction.text import TfidfVectorizer\n",
    "from sklearn import svm\n",
    "from sklearn.metrics import classification_report\n",
    "#from sklearn.model_selection import ShuffleSplit\n",
    "from sklearn.model_selection import StratifiedKFold\n",
    "#from sklearn.model_selection import RepeatedStratifiedKFold\n",
    "from sklearn.metrics import f1_score"
   ]
  },
  {
   "cell_type": "code",
   "execution_count": null,
   "metadata": {},
   "outputs": [],
   "source": [
    "def classifaction_report_dataFrame(report):\n",
    "    report_data = pd.DataFrame()\n",
    "    lines = report.split('\\n')\n",
    "    for line in lines[2:-3]:\n",
    "        row = {}\n",
    "        row_data = line.split('      ')\n",
    "        report_data = report_data.append({\"class\": row_data[0], \"precision\": float(row_data[1]), \"recall\": float(row_data[2]), \"f1_score\": float(row_data[3])}, ignore_index=True)\n",
    "    return report_data"
   ]
  },
  {
   "cell_type": "code",
   "execution_count": 294,
   "metadata": {},
   "outputs": [],
   "source": [
    "#split (0.8 train_data 0.2 test_data)\n",
    "\n",
    "def prepereDataWithoutLemmatisation(split):\n",
    "    data = np.empty((0))\n",
    "    data_labels = np.empty((0))\n",
    "\n",
    "    comments = pd.read_csv('FilmWeb-commentsRates.csv')\n",
    "    comments = comments.reset_index()\n",
    "    comments.loc[comments.emotion == 'neutral', 'emotion'] = \"negative\"\n",
    "    \n",
    "    train_data = pd.DataFrame()\n",
    "    test_data = pd.DataFrame()\n",
    "\n",
    "    length_train_data = int(split * len(comments))\n",
    "    train_data = comments[:length_train_data]\n",
    "    test_data = comments[length_train_data:]\n",
    "  \n",
    "    for index, train_data in train_data.iterrows():\n",
    "        data = np.append(data, train_data['Text'])\n",
    "        data_labels = np.append(data_labels, train_data['emotion'])\n",
    "    return [data, data_labels, test_data]"
   ]
  },
  {
   "cell_type": "code",
   "execution_count": null,
   "metadata": {},
   "outputs": [],
   "source": [
    "def prepereDataWithLemmatisation(split):\n",
    "    data = np.empty((0))\n",
    "    data_labels = np.empty((0))\n",
    "    \n",
    "    comments = pd.read_csv('FilmWeb-lemmatisation-commentsRates.csv')\n",
    "    comments = comments.reset_index()\n",
    "    comments.loc[comments.emotion == 'neutral', 'emotion'] = \"negative\"\n",
    "    \n",
    "    for index, comment in comments.iterrows():\n",
    "        data = np.append(data, comment['comment'])\n",
    "        data_labels = np.append(data_labels, comment['emotion'])\n",
    "    return [data, data_labels]"
   ]
  },
  {
   "cell_type": "code",
   "execution_count": null,
   "metadata": {},
   "outputs": [],
   "source": [
    "def SVM(iterations, dataset, is_shuffle):\n",
    "    data = dataset[0]\n",
    "    data_labels = dataset[1]\n",
    "    report_data_Linear = pd.DataFrame()\n",
    "    report_data_Liblinear = pd.DataFrame()\n",
    "    report_data_Liblinear2 = pd.DataFrame()\n",
    "\n",
    "    #Some classification problems can exhibit a large imbalance in the distribution of the target classes: \n",
    "    #for instance there could be several times more negative samples than positive samples.\n",
    "    #StratifiedKFold is a variation of k-fold which returns stratified folds: each set contains approximately \n",
    "    #the same percentage of samples of each target class as the complete set.\n",
    "    #K-krotna walidacja\n",
    "    \n",
    "    #shuffle - przetasowanie zbiorów\n",
    "    sss = StratifiedKFold(n_splits=iterations, shuffle=is_shuffle)\n",
    "    classifier_liblinear2 = svm.LinearSVC()\n",
    "    for train_index, test_index in sss.split(data, data_labels):\n",
    "        train_data, test_data = data[train_index], data[test_index]\n",
    "        train_labels, test_labels = data_labels[train_index], data_labels[test_index]\n",
    "\n",
    "        # Create feature vectors\n",
    "        \n",
    "        #min_df - When building the vocabulary ignore terms that have a document frequency strictly lower \n",
    "        #than the given threshold. This value is also called cut-off in the literature.\n",
    "        #If float, the parameter represents a proportion of documents, integer absolute counts.\n",
    "        #This parameter is ignored if vocabulary is not None.\n",
    "        \n",
    "        vectorizer = TfidfVectorizer(min_df=5,max_df = 0.8,sublinear_tf=True,use_idf=True)\n",
    "        train_vectors = vectorizer.fit_transform(train_data)\n",
    "        test_vectors = vectorizer.transform(test_data)\n",
    "\n",
    "        # Perform classification with SVM, kernel=linear\n",
    "        classifier_linear = svm.SVC(kernel='linear')\n",
    "        t0 = time.time()\n",
    "        classifier_linear.fit(train_vectors, train_labels)\n",
    "        t1 = time.time()\n",
    "        prediction_linear = classifier_linear.predict(test_vectors)\n",
    "        t2 = time.time()\n",
    "        time_linear_train = t1-t0\n",
    "        time_linear_predict = t2-t1\n",
    "\n",
    "        # Perform classification with SVM, kernel=linear\n",
    "        classifier_liblinear = svm.LinearSVC()\n",
    "        t0 = time.time()\n",
    "        classifier_liblinear.fit(train_vectors, train_labels)\n",
    "        t1 = time.time()\n",
    "        prediction_liblinear = classifier_liblinear.predict(test_vectors)\n",
    "        t2 = time.time()\n",
    "        time_liblinear_train = t1-t0\n",
    "        time_liblinear_predict = t2-t1\n",
    "        \n",
    "        # Perform classification with SVM, kernel=linear\n",
    "        t0 = time.time()\n",
    "        classifier_liblinear2.fit(train_vectors, train_labels)\n",
    "        t1 = time.time()\n",
    "        prediction_liblinear2 = classifier_liblinear.predict(test_vectors)\n",
    "        t2 = time.time()\n",
    "        time_liblinear_train2 = t1-t0\n",
    "        time_liblinear_predict2 = t2-t1\n",
    "\n",
    "        reportLinear = classification_report(test_labels, prediction_linear)\n",
    "        reportLiblinear2 = classification_report(test_labels, prediction_liblinear2)\n",
    "        \n",
    "        lines = reportLinear.split('\\n')\n",
    "        for line in lines[2:-3]:\n",
    "            row = {}\n",
    "            row_data = line.split('      ')\n",
    "            report_data_Linear = report_data_Linear.append({\"class\": row_data[0], \"precision\": float(row_data[1]), \"recall\": float(row_data[2]), \"f1_score\": float(row_data[3]), \"support\": float(row_data[4])}, ignore_index=True)\n",
    "\n",
    "        lines = reportLiblinear.split('\\n')\n",
    "        for line in lines[2:-3]:\n",
    "            row = {}\n",
    "            row_data = line.split('      ')\n",
    "            report_data_Liblinear = report_data_Liblinear.append({\"class\": row_data[0], \"precision\": float(row_data[1]), \"recall\": float(row_data[2]), \"f1_score\": float(row_data[3]), \"support\": float(row_data[4])}, ignore_index=True)\n",
    "        \n",
    "        lines = reportLiblinear2.split('\\n')\n",
    "        for line in lines[2:-3]:\n",
    "            row = {}\n",
    "            row_data = line.split('      ')\n",
    "            report_data_Liblinear2 = report_data_Liblinear2.append({\"class\": row_data[0], \"precision\": float(row_data[1]), \"recall\": float(row_data[2]), \"f1_score\": float(row_data[3]), \"support\": float(row_data[4])}, ignore_index=True)\n",
    "        \n",
    "    print 'Training data:'\n",
    "    counter=collections.Counter(train_labels)\n",
    "    print(counter)\n",
    "\n",
    "    print 'Test data:'\n",
    "    counter=collections.Counter(test_labels)\n",
    "    print(counter)\n",
    "    \n",
    "    return [report_data_Liblinear, report_data_Linear, report_data_Liblinear2]"
   ]
  },
  {
   "cell_type": "code",
   "execution_count": null,
   "metadata": {},
   "outputs": [],
   "source": [
    "iterations = 10\n",
    "shuffle = True"
   ]
  },
  {
   "cell_type": "code",
   "execution_count": null,
   "metadata": {},
   "outputs": [],
   "source": [
    "#SVM without Lemmatisation\n",
    "dataset = prepereDataWithoutLemmatisation()\n",
    "\n",
    "print 'number of dataset: ' + str(iterations)\n",
    "data = SVM(iterations, dataset, shuffle)\n",
    "print 'Linear report:'\n",
    "printReportLinear(data)\n",
    "print 'Liblinear report:'\n",
    "printReportLiblinear(data)"
   ]
  },
  {
   "cell_type": "code",
   "execution_count": null,
   "metadata": {},
   "outputs": [],
   "source": [
    "#SVM with Lemmatisation\n",
    "dataset = prepereDataWithLemmatisation()\n",
    "\n",
    "print 'number of dataset: ' + str(iterations)\n",
    "data = SVM(iterations, dataset, shuffle)\n",
    "print 'Linear report:'\n",
    "printReportLinear(data)\n",
    "print 'Liblinear report:'\n",
    "printReportLiblinear(data)\n",
    "\n",
    "print 'Liblinear2 report:'\n",
    "printReportLiblinear2(data)"
   ]
  },
  {
   "cell_type": "code",
   "execution_count": null,
   "metadata": {},
   "outputs": [],
   "source": [
    "def printReportLiblinear(dataframe):\n",
    "    liblinear = dataframe[1]\n",
    "    for index, data in liblinear.groupby('class'):\n",
    "        print(data)\n",
    "        \n",
    "def printReportLiblinear2(dataframe):\n",
    "    liblinear = dataframe[2]\n",
    "    for index, data in liblinear.groupby('class'):\n",
    "        print(data)"
   ]
  },
  {
   "cell_type": "code",
   "execution_count": null,
   "metadata": {},
   "outputs": [],
   "source": [
    "def printReportLinear(dataframe):\n",
    "    linear = dataframe[0]\n",
    "    for index, data in linear.groupby('class'):\n",
    "        print(data)"
   ]
  },
  {
   "cell_type": "code",
   "execution_count": 289,
   "metadata": {},
   "outputs": [],
   "source": [
    "def SVM_liblinear(iterations, dataset, is_shuffle):\n",
    "    data = dataset[0]\n",
    "    data_labels = dataset[1]\n",
    "    \n",
    "    sss = StratifiedKFold(n_splits=iterations, shuffle=is_shuffle)\n",
    "\n",
    "    for train_index, test_index in sss.split(data, data_labels):\n",
    "        train_data = data[train_index]\n",
    "        train_labels = data_labels[train_index]\n",
    "        \n",
    "        vectorizer = TfidfVectorizer(min_df=5,max_df = 0.8,sublinear_tf=True,use_idf=True)\n",
    "        train_vectors = vectorizer.fit_transform(train_data)\n",
    "        \n",
    "        classifier_liblinear = svm.LinearSVC()\n",
    "        classifier_liblinear.fit(train_vectors, train_labels)\n",
    "        \n",
    "    return [classifier_liblinear,vectorizer]"
   ]
  },
  {
   "cell_type": "code",
   "execution_count": 295,
   "metadata": {},
   "outputs": [],
   "source": [
    "#testing dataset\n",
    "\n",
    "iterations = 10\n",
    "shuffle = True\n",
    "dataset = prepereDataWithoutLemmatisation(0.8)\n",
    "[classifier, vectorizer] = SVM_liblinear(iterations, dataset, shuffle)\n",
    "testData = dataset[2]\n",
    "detectedEmotion = SCV_detectingEmotions(classifier,vectorizer,testData['Text'])\n",
    "\n",
    "result_df = pd.DataFrame({\"text\": testData['Text'], \"detectedEmotion\": detectedEmotion, 'emotion': testData['emotion']})"
   ]
  },
  {
   "cell_type": "code",
   "execution_count": 250,
   "metadata": {},
   "outputs": [],
   "source": [
    "def prepereTestData(maximumNegativeRate, mimimumPositiveRate, ):\n",
    "    comments = pd.read_csv('FilmWeb-commentsRates.csv')\n",
    "    comments.loc[comments.emotion == 'neutral', 'emotion'] = \"negative\"\n",
    "    comments = comments[(comments.rate <= maximumNegativeRate) | (comments.rate >= mimimumPositiveRate)]\n",
    "    comments = comments.reset_index()\n",
    "    #charToRemove= dict.fromkeys('!@#$?.:,')\n",
    "   # comments['Text'] = comments['Text'].translate(charToRemove)\n",
    "    return comments"
   ]
  },
  {
   "cell_type": "code",
   "execution_count": 259,
   "metadata": {},
   "outputs": [],
   "source": [
    "def SCV_detectingEmotions(classifier, vectorizer, test_data):\n",
    "    test_vectors = vectorizer.transform(test_data)\n",
    "    prediction_liblinear = classifier.predict(test_vectors)\n",
    "    return prediction_liblinear"
   ]
  },
  {
   "cell_type": "code",
   "execution_count": 296,
   "metadata": {},
   "outputs": [
    {
     "data": {
      "image/png": "[encoded data removed]",
      "text/plain": [
       "<matplotlib.figure.Figure at 0x1a17c17ed0>"
      ]
     },
     "metadata": {},
     "output_type": "display_data"
    }
   ],
   "source": [
    "import matplotlib.pyplot as plt\n",
    "%matplotlib inline\n",
    "\n",
    "def get_length(text):\n",
    "    return len(text)\n",
    "\n",
    "def get_length_bin(length):\n",
    "    return length / 10\n",
    "\n",
    "def get_score(result):\n",
    "    return 1 if result else 0\n",
    "\n",
    "result_df['correct_guess'] = result_df['detectedEmotion'] == result_df['emotion']\n",
    "result_df['score'] = map(get_score, result_df['correct_guess'])\n",
    "result_df['text_length'] = map(get_length, result_df['text'])\n",
    "result_df['text_length_bin'] = map(get_length_bin, result_df['text_length'])\n",
    "grouped = result_df.groupby('text_length_bin', as_index=False)['score'].mean()\n",
    "\n",
    "fig, ax = plt.subplots()\n",
    "x = grouped.text_length_bin * 10\n",
    "y = grouped.score\n",
    "fit = np.polyfit(x, y, deg=1)\n",
    "ax.plot(x, fit[0] * x + fit[1], color='red')\n",
    "ax.scatter(x, y)\n",
    "\n",
    "fig.show()"
   ]
  },
  {
   "cell_type": "code",
   "execution_count": 297,
   "metadata": {},
   "outputs": [
    {
     "name": "stdout",
     "output_type": "stream",
     "text": [
      "Number of correct guess: 578\n",
      "Number of wrong guess: 313\n"
     ]
    }
   ],
   "source": [
    "print 'Number of correct guess: ' + str(len(result_df.loc[result_df['correct_guess'] == True]))\n",
    "print 'Number of wrong guess: ' + str(len(result_df.loc[result_df['correct_guess'] == False]))"
   ]
  },
  {
   "cell_type": "code",
   "execution_count": 281,
   "metadata": {},
   "outputs": [],
   "source": [
    "df1 = result_df.head(100)"
   ]
  },
  {
   "cell_type": "code",
   "execution_count": 286,
   "metadata": {},
   "outputs": [],
   "source": []
  },
  {
   "cell_type": "code",
   "execution_count": 287,
   "metadata": {},
   "outputs": [
    {
     "data": {
      "text/html": [
       "<div>\n",
       "<style scoped>\n",
       "    .dataframe tbody tr th:only-of-type {\n",
       "        vertical-align: middle;\n",
       "    }\n",
       "\n",
       "    .dataframe tbody tr th {\n",
       "        vertical-align: top;\n",
       "    }\n",
       "\n",
       "    .dataframe thead th {\n",
       "        text-align: right;\n",
       "    }\n",
       "</style>\n",
       "<table border=\"1\" class=\"dataframe\">\n",
       "  <thead>\n",
       "    <tr style=\"text-align: right;\">\n",
       "      <th></th>\n",
       "      <th>detectedEmotion</th>\n",
       "      <th>emotion</th>\n",
       "      <th>text</th>\n",
       "      <th>correct_guess</th>\n",
       "      <th>score</th>\n",
       "      <th>text_length</th>\n",
       "      <th>text_length_bin</th>\n",
       "    </tr>\n",
       "  </thead>\n",
       "  <tbody>\n",
       "    <tr>\n",
       "      <th>0</th>\n",
       "      <td>negative</td>\n",
       "      <td>negative</td>\n",
       "      <td>\"Boże, zaraz się zrzygam\"..                   ...</td>\n",
       "      <td>True</td>\n",
       "      <td>1</td>\n",
       "      <td>479</td>\n",
       "      <td>47</td>\n",
       "    </tr>\n",
       "    <tr>\n",
       "      <th>1</th>\n",
       "      <td>negative</td>\n",
       "      <td>negative</td>\n",
       "      <td>Film dla \"ajfonowych\" lemingów z ujemnym IQ.  ...</td>\n",
       "      <td>True</td>\n",
       "      <td>1</td>\n",
       "      <td>307</td>\n",
       "      <td>30</td>\n",
       "    </tr>\n",
       "    <tr>\n",
       "      <th>2</th>\n",
       "      <td>negative</td>\n",
       "      <td>negative</td>\n",
       "      <td>To najbardziej antyfeministyczna rzecz w dziej...</td>\n",
       "      <td>True</td>\n",
       "      <td>1</td>\n",
       "      <td>473</td>\n",
       "      <td>47</td>\n",
       "    </tr>\n",
       "    <tr>\n",
       "      <th>3</th>\n",
       "      <td>negative</td>\n",
       "      <td>negative</td>\n",
       "      <td>Prawdziwy dramat                        Na wst...</td>\n",
       "      <td>True</td>\n",
       "      <td>1</td>\n",
       "      <td>462</td>\n",
       "      <td>46</td>\n",
       "    </tr>\n",
       "    <tr>\n",
       "      <th>4</th>\n",
       "      <td>negative</td>\n",
       "      <td>negative</td>\n",
       "      <td>Film                         Za mało Złotych M...</td>\n",
       "      <td>True</td>\n",
       "      <td>1</td>\n",
       "      <td>68</td>\n",
       "      <td>6</td>\n",
       "    </tr>\n",
       "    <tr>\n",
       "      <th>5</th>\n",
       "      <td>negative</td>\n",
       "      <td>negative</td>\n",
       "      <td>Hmm... budżet: 40 000 000 $                   ...</td>\n",
       "      <td>True</td>\n",
       "      <td>1</td>\n",
       "      <td>163</td>\n",
       "      <td>16</td>\n",
       "    </tr>\n",
       "    <tr>\n",
       "      <th>6</th>\n",
       "      <td>negative</td>\n",
       "      <td>negative</td>\n",
       "      <td>Połączenie komedii romantycznej z soft porno. ...</td>\n",
       "      <td>True</td>\n",
       "      <td>1</td>\n",
       "      <td>466</td>\n",
       "      <td>46</td>\n",
       "    </tr>\n",
       "    <tr>\n",
       "      <th>7</th>\n",
       "      <td>negative</td>\n",
       "      <td>negative</td>\n",
       "      <td>Chciałabym odzobaczyć                        f...</td>\n",
       "      <td>True</td>\n",
       "      <td>1</td>\n",
       "      <td>360</td>\n",
       "      <td>36</td>\n",
       "    </tr>\n",
       "    <tr>\n",
       "      <th>8</th>\n",
       "      <td>negative</td>\n",
       "      <td>negative</td>\n",
       "      <td>\"Boże, zaraz się zrzygam\"..Słowa Koroniewskiej...</td>\n",
       "      <td>True</td>\n",
       "      <td>1</td>\n",
       "      <td>442</td>\n",
       "      <td>44</td>\n",
       "    </tr>\n",
       "    <tr>\n",
       "      <th>9</th>\n",
       "      <td>negative</td>\n",
       "      <td>negative</td>\n",
       "      <td>Film dla \"ajfonowych\" lemingów z ujemnym IQ.Te...</td>\n",
       "      <td>True</td>\n",
       "      <td>1</td>\n",
       "      <td>269</td>\n",
       "      <td>26</td>\n",
       "    </tr>\n",
       "  </tbody>\n",
       "</table>\n",
       "</div>"
      ],
      "text/plain": [
       "  detectedEmotion   emotion  \\\n",
       "0        negative  negative   \n",
       "1        negative  negative   \n",
       "2        negative  negative   \n",
       "3        negative  negative   \n",
       "4        negative  negative   \n",
       "5        negative  negative   \n",
       "6        negative  negative   \n",
       "7        negative  negative   \n",
       "8        negative  negative   \n",
       "9        negative  negative   \n",
       "\n",
       "                                                text  correct_guess  score  \\\n",
       "0  \"Boże, zaraz się zrzygam\"..                   ...           True      1   \n",
       "1  Film dla \"ajfonowych\" lemingów z ujemnym IQ.  ...           True      1   \n",
       "2  To najbardziej antyfeministyczna rzecz w dziej...           True      1   \n",
       "3  Prawdziwy dramat                        Na wst...           True      1   \n",
       "4  Film                         Za mało Złotych M...           True      1   \n",
       "5  Hmm... budżet: 40 000 000 $                   ...           True      1   \n",
       "6  Połączenie komedii romantycznej z soft porno. ...           True      1   \n",
       "7  Chciałabym odzobaczyć                        f...           True      1   \n",
       "8  \"Boże, zaraz się zrzygam\"..Słowa Koroniewskiej...           True      1   \n",
       "9  Film dla \"ajfonowych\" lemingów z ujemnym IQ.Te...           True      1   \n",
       "\n",
       "   text_length  text_length_bin  \n",
       "0          479               47  \n",
       "1          307               30  \n",
       "2          473               47  \n",
       "3          462               46  \n",
       "4           68                6  \n",
       "5          163               16  \n",
       "6          466               46  \n",
       "7          360               36  \n",
       "8          442               44  \n",
       "9          269               26  "
      ]
     },
     "execution_count": 287,
     "metadata": {},
     "output_type": "execute_result"
    }
   ],
   "source": [
    "first_ten"
   ]
  },
  {
   "cell_type": "code",
   "execution_count": 302,
   "metadata": {},
   "outputs": [],
   "source": [
    "def createCommentsWithLemmatisation():\n",
    "    commentsWithLemmatisation = pd.DataFrame()\n",
    "    comments = pd.read_csv('FilmWeb-commentsRates.csv')\n",
    "    for comment in comments:\n",
    "        print(comment)\n",
    "        #text = lemmatisation(comment['Text'])\n",
    "        #commentsWithLemmatisation = commentsWithLemmatisation.append({'text': ''.join(text), 'emotion': comment['emotion'], 'rate': comment['rate']}, ignore_index=True)\n",
    "    #return commentsWithLemmatisation"
   ]
  },
  {
   "cell_type": "code",
   "execution_count": 303,
   "metadata": {},
   "outputs": [
    {
     "name": "stdout",
     "output_type": "stream",
     "text": [
      "Text\n",
      "emotion\n",
      "rate\n"
     ]
    }
   ],
   "source": [
    "createCommentsWithLemmatisation()"
   ]
  },
  {
   "cell_type": "code",
   "execution_count": null,
   "metadata": {},
   "outputs": [],
   "source": []
  },
  {
   "cell_type": "code",
   "execution_count": null,
   "metadata": {},
   "outputs": [],
   "source": []
  },
  {
   "cell_type": "code",
   "execution_count": null,
   "metadata": {},
   "outputs": [],
   "source": []
  },
  {
   "cell_type": "code",
   "execution_count": null,
   "metadata": {},
   "outputs": [],
   "source": []
  },
  {
   "cell_type": "code",
   "execution_count": null,
   "metadata": {},
   "outputs": [],
   "source": []
  },
  {
   "cell_type": "code",
   "execution_count": null,
   "metadata": {},
   "outputs": [],
   "source": []
  },
  {
   "cell_type": "code",
   "execution_count": null,
   "metadata": {},
   "outputs": [],
   "source": []
  },
  {
   "cell_type": "code",
   "execution_count": null,
   "metadata": {},
   "outputs": [],
   "source": []
  },
  {
   "cell_type": "code",
   "execution_count": null,
   "metadata": {},
   "outputs": [],
   "source": []
  },
  {
   "cell_type": "code",
   "execution_count": null,
   "metadata": {},
   "outputs": [],
   "source": []
  }
 ],
 "metadata": {
  "kernelspec": {
   "display_name": "Python 2",
   "language": "python",
   "name": "python2"
  },
  "language_info": {
   "codemirror_mode": {
    "name": "ipython",
    "version": 2
   },
   "file_extension": ".py",
   "mimetype": "text/x-python",
   "name": "python",
   "nbconvert_exporter": "python",
   "pygments_lexer": "ipython2",
   "version": "2.7.14"
  }
 },
 "nbformat": 4,
 "nbformat_minor": 2
}

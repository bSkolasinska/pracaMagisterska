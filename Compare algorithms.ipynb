{
 "cells": [
  {
   "cell_type": "code",
   "execution_count": 32,
   "metadata": {},
   "outputs": [],
   "source": [
    "import sys\n",
    "import os\n",
    "import time\n",
    "import collections\n",
    "import pandas as pd\n",
    "import numpy as np\n",
    "import matplotlib.pyplot as plt\n",
    "import re\n",
    "\n",
    "from sklearn.feature_extraction.text import TfidfVectorizer\n",
    "from sklearn import svm\n",
    "from sklearn.metrics import classification_report\n",
    "from sklearn.model_selection import StratifiedKFold\n",
    "from sklearn.metrics import f1_score\n",
    "\n",
    "%matplotlib inline"
   ]
  },
  {
   "cell_type": "code",
   "execution_count": 33,
   "metadata": {},
   "outputs": [],
   "source": [
    "def splitData(data, split):  \n",
    "    train_data = pd.DataFrame()\n",
    "    test_data = pd.DataFrame()\n",
    "\n",
    "    length_train_data = int(split * len(data))\n",
    "    train_data = data[:length_train_data]\n",
    "    test_data = data[length_train_data:]\n",
    "    \n",
    "    return [train_data, test_data]"
   ]
  },
  {
   "cell_type": "code",
   "execution_count": 34,
   "metadata": {},
   "outputs": [],
   "source": [
    "def get_length_bin(length):\n",
    "    return round(length / 10)\n",
    "\n",
    "def get_score(result):\n",
    "    return 1 if result else 0\n",
    "\n",
    "def prepereDataForPlot(result_df):\n",
    "    result_df['correct_guess'] = result_df['detectedEmotion'] == result_df['emotion']\n",
    "    result_df['score'] = map(get_score, result_df['correct_guess'])\n",
    "    #create group with 10 elements\n",
    "    result_df['text_length_bin'] = map(get_length_bin, result_df['words'])    \n",
    "    return result_df"
   ]
  },
  {
   "cell_type": "code",
   "execution_count": 35,
   "metadata": {},
   "outputs": [],
   "source": [
    "def createPlotByScore(data):\n",
    "    grouped = data.groupby('words', as_index=False)['score'].mean()\n",
    "    fig, ax = plt.subplots()\n",
    "    x = grouped.words\n",
    "    y = grouped.score\n",
    "    fit = np.polyfit(x, y, deg=1)\n",
    "    ax.plot(x, fit[0] * x + fit[1], color='red')\n",
    "    ax.scatter(x, y)\n",
    "    \n",
    "    plt.xlabel('Lenght of text')\n",
    "    plt.ylabel('Efficacy')\n",
    "    \n",
    "    fig.show()"
   ]
  },
  {
   "cell_type": "code",
   "execution_count": 36,
   "metadata": {},
   "outputs": [],
   "source": [
    "#zaleznosc oceny od wykrytej emocji\n",
    "def createPlotByRate(data):\n",
    "    data = data.round({'rate': 0})   \n",
    "    grouped = data.groupby('rate', as_index=False)['score'].mean()\n",
    "    fig, ax = plt.subplots()\n",
    "    x = grouped.rate\n",
    "    y = grouped.score\n",
    "    fit = np.polyfit(x, y, deg=1)\n",
    "    ax.plot(x, fit[0] * x + fit[1], color='red')\n",
    "    ax.scatter(x, y)\n",
    "    \n",
    "    plt.xlabel('Rate')\n",
    "    plt.ylabel('Efficacy')\n",
    "\n",
    "    fig.show()"
   ]
  },
  {
   "cell_type": "code",
   "execution_count": 37,
   "metadata": {},
   "outputs": [],
   "source": [
    "def getResults(result_df):\n",
    "    return result_df.groupby('correct_guess').size()"
   ]
  },
  {
   "cell_type": "code",
   "execution_count": 38,
   "metadata": {},
   "outputs": [],
   "source": [
    "def removeChars(text):\n",
    "    return re.sub(\"[!#$%&\\'()*+,-./:;<=>?@[\\\\]^_`{|}~']\", '', text)"
   ]
  },
  {
   "cell_type": "code",
   "execution_count": 39,
   "metadata": {},
   "outputs": [],
   "source": [
    "def prepereData(comments):  \n",
    "    data = np.empty((0))\n",
    "    data_labels = np.empty((0))\n",
    "  \n",
    "    for index, train_data in comments.iterrows():\n",
    "        data = np.append(data, train_data['text'])\n",
    "        data_labels = np.append(data_labels, train_data['emotion'])\n",
    "    return [data, data_labels]"
   ]
  },
  {
   "cell_type": "code",
   "execution_count": 40,
   "metadata": {},
   "outputs": [],
   "source": [
    "def SVM_liblinear(iterations, dataset, is_shuffle):\n",
    "    data = dataset[0]\n",
    "    data_labels = dataset[1]\n",
    "    \n",
    "    sss = StratifiedKFold(n_splits=iterations, shuffle=is_shuffle)\n",
    "\n",
    "    for train_index, test_index in sss.split(data, data_labels):\n",
    "        train_data = data[train_index]\n",
    "        train_labels = data_labels[train_index]\n",
    "        \n",
    "        vectorizer = TfidfVectorizer(min_df=5,max_df = 0.8,sublinear_tf=True,use_idf=True)\n",
    "        train_vectors = vectorizer.fit_transform(train_data)\n",
    "        \n",
    "        classifier_liblinear = svm.LinearSVC()\n",
    "        classifier_liblinear.fit(train_vectors, train_labels)\n",
    "        \n",
    "    return [classifier_liblinear,vectorizer]"
   ]
  },
  {
   "cell_type": "code",
   "execution_count": 41,
   "metadata": {},
   "outputs": [],
   "source": [
    "def SCV_detectingEmotions(classifier, vectorizer, test_data):\n",
    "    test_vectors = vectorizer.transform(test_data)\n",
    "    prediction_liblinear = classifier.predict(test_vectors)\n",
    "    return prediction_liblinear"
   ]
  },
  {
   "cell_type": "code",
   "execution_count": 54,
   "metadata": {},
   "outputs": [
    {
     "name": "stderr",
     "output_type": "stream",
     "text": [
      "/anaconda2/lib/python2.7/site-packages/ipykernel_launcher.py:8: SettingWithCopyWarning: \n",
      "A value is trying to be set on a copy of a slice from a DataFrame.\n",
      "Try using .loc[row_indexer,col_indexer] = value instead\n",
      "\n",
      "See the caveats in the documentation: http://pandas.pydata.org/pandas-docs/stable/indexing.html#indexing-view-versus-copy\n",
      "  \n",
      "/anaconda2/lib/python2.7/site-packages/ipykernel_launcher.py:11: SettingWithCopyWarning: \n",
      "A value is trying to be set on a copy of a slice from a DataFrame.\n",
      "Try using .loc[row_indexer,col_indexer] = value instead\n",
      "\n",
      "See the caveats in the documentation: http://pandas.pydata.org/pandas-docs/stable/indexing.html#indexing-view-versus-copy\n",
      "  # This is added back by InteractiveShellApp.init_path()\n"
     ]
    }
   ],
   "source": [
    "#testing dataset\n",
    "data = pd.read_csv('mediaKrytyk-comments-analysis-dictParser.csv')\n",
    "data.reset_index()\n",
    "[train_data, test_data] = splitData(data, 0.8)\n",
    "test_data = test_data.reset_index()\n",
    "\n",
    "test_data['text'] = map(removeChars, test_data['text'])\n",
    "train_data['text'] = map(removeChars, train_data['text'])\n",
    "\n",
    "test_data['lemmatisation'] = map(removeChars, test_data['lemmatisation'])\n",
    "train_data['lemmatisation'] = map(removeChars, train_data['lemmatisation'])\n",
    "\n",
    "train_data = prepereData(train_data)\n",
    "[classifier, vectorizer] = SVM_liblinear(10, train_data, True)\n",
    "detectedEmotion = SCV_detectingEmotions(classifier,vectorizer,test_data['lemmatisation'])\n",
    "\n",
    "result_slowosiec = pd.DataFrame({\"text\": test_data['text'], \"detectedEmotion\": test_data['detectedEmotion'], 'emotion': test_data['emotion'], 'rate': test_data['rate'], 'words': test_data['words']})\n",
    "result_svm = pd.DataFrame({\"text\": test_data['text'], \"detectedEmotion\": detectedEmotion, 'emotion': test_data['emotion'], 'rate': test_data['rate'], 'words': test_data['words']})"
   ]
  },
  {
   "cell_type": "code",
   "execution_count": 58,
   "metadata": {},
   "outputs": [
    {
     "data": {
      "text/plain": [
       "correct_guess\n",
       "False    366\n",
       "True     849\n",
       "dtype: int64"
      ]
     },
     "execution_count": 58,
     "metadata": {},
     "output_type": "execute_result"
    }
   ],
   "source": [
    "result_svm = prepereDataForPlot(result_svm)\n",
    "getResults(result_svm)"
   ]
  },
  {
   "cell_type": "code",
   "execution_count": 49,
   "metadata": {},
   "outputs": [
    {
     "data": {
      "text/plain": [
       "correct_guess\n",
       "False    576\n",
       "True     639\n",
       "dtype: int64"
      ]
     },
     "execution_count": 49,
     "metadata": {},
     "output_type": "execute_result"
    }
   ],
   "source": [
    "result_slowosiec = prepereDataForPlot(result_slowosiec)\n",
    "getResults(result_slowosiec)"
   ]
  },
  {
   "cell_type": "code",
   "execution_count": 56,
   "metadata": {},
   "outputs": [
    {
     "data": {
      "image/png": "[encoded data removed]",
      "text/plain": [
       "<matplotlib.figure.Figure at 0x107b3ac90>"
      ]
     },
     "metadata": {},
     "output_type": "display_data"
    }
   ],
   "source": [
    "createPlotByScore(result_svm)"
   ]
  },
  {
   "cell_type": "code",
   "execution_count": 59,
   "metadata": {},
   "outputs": [
    {
     "data": {
      "image/png": "[encoded data removed]",
      "text/plain": [
       "<matplotlib.figure.Figure at 0x10978b810>"
      ]
     },
     "metadata": {},
     "output_type": "display_data"
    }
   ],
   "source": [
    "createPlotByRate(result_svm)"
   ]
  },
  {
   "cell_type": "code",
   "execution_count": 52,
   "metadata": {},
   "outputs": [
    {
     "data": {
      "image/png": "[encoded data removed]",
      "text/plain": [
       "<matplotlib.figure.Figure at 0x108a7eed0>"
      ]
     },
     "metadata": {},
     "output_type": "display_data"
    }
   ],
   "source": [
    "createPlotByScore(result_slowosiec)"
   ]
  },
  {
   "cell_type": "code",
   "execution_count": 53,
   "metadata": {},
   "outputs": [
    {
     "data": {
      "image/png": "[encoded data removed]",
      "text/plain": [
       "<matplotlib.figure.Figure at 0x107bb1050>"
      ]
     },
     "metadata": {},
     "output_type": "display_data"
    }
   ],
   "source": [
    "createPlotByRate(result_slowosiec)"
   ]
  },
  {
   "cell_type": "code",
   "execution_count": null,
   "metadata": {},
   "outputs": [],
   "source": []
  }
 ],
 "metadata": {
  "kernelspec": {
   "display_name": "Python 2",
   "language": "python",
   "name": "python2"
  },
  "language_info": {
   "codemirror_mode": {
    "name": "ipython",
    "version": 2
   },
   "file_extension": ".py",
   "mimetype": "text/x-python",
   "name": "python",
   "nbconvert_exporter": "python",
   "pygments_lexer": "ipython2",
   "version": "2.7.14"
  }
 },
 "nbformat": 4,
 "nbformat_minor": 2
}

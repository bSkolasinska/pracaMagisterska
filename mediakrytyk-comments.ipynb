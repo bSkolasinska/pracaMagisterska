{
 "cells": [
  {
   "cell_type": "code",
   "execution_count": 45,
   "metadata": {},
   "outputs": [],
   "source": [
    "import requests\n",
    "from bs4 import BeautifulSoup\n",
    "import pandas as pd\n",
    "\n",
    "movies_reviews = pd.DataFrame()"
   ]
  },
  {
   "cell_type": "code",
   "execution_count": 47,
   "metadata": {},
   "outputs": [],
   "source": [
    "i = 1\n",
    "while i <= 400:\n",
    "    page = requests.get(\"http://mediakrytyk.pl/film/\" + str(i) + \"?rodzaj=wszystkie&ocena=wszystkie&sortowanie=ocena&duplikaty=nie\")\n",
    "    soup = BeautifulSoup(page.content, 'html5lib')\n",
    "    for movie in soup.find_all('div', class_='review_common review clear'):\n",
    "        rate_div_negative = movie.find('div', class_='review_common_score_symbol score_symbol normal level_0')\n",
    "        if(rate_div_negative):\n",
    "            rate = rate_div_negative.get_text()\n",
    "            rate = rate.replace(\"\\n\", \"\").replace('\\t', '')\n",
    "            emotion = 'negative'   \n",
    "            comment_div = movie.find('div', class_='review_common_text')\n",
    "            comment = comment_div.get_text()\n",
    "            comment = comment.replace(\"\\n\", \"\").replace('\\t', '')\n",
    "            movies_reviews = movies_reviews.append({\"comments\": comment, \"rate\": rate, 'emotion': emotion}, ignore_index=True)\n",
    "        rate_div_positive = movie.find('div', class_='review_common_score_symbol score_symbol normal level_1')\n",
    "        if(rate_div_positive):\n",
    "            rate = rate_div_positive.get_text()\n",
    "            rate = rate.replace(\"\\n\", \"\").replace('\\t', '')\n",
    "            emotion = 'positive'   \n",
    "            comment_div = movie.find('div', class_='review_common_text')\n",
    "            comment = comment_div.get_text()\n",
    "            comment = comment.replace(\"\\n\", \"\").replace('\\t', '')\n",
    "            movies_reviews = movies_reviews.append({\"comments\": comment, \"rate\": rate, 'emotion': emotion}, ignore_index=True)\n",
    "    i = i + 1"
   ]
  },
  {
   "cell_type": "code",
   "execution_count": 50,
   "metadata": {},
   "outputs": [],
   "source": [
    "movies_reviews = movies_reviews.drop_duplicates(['comments'], keep='last')\n"
   ]
  },
  {
   "cell_type": "code",
   "execution_count": 51,
   "metadata": {},
   "outputs": [
    {
     "data": {
      "text/plain": [
       "emotion\n",
       "negative    1949\n",
       "positive    4124\n",
       "dtype: int64"
      ]
     },
     "execution_count": 51,
     "metadata": {},
     "output_type": "execute_result"
    }
   ],
   "source": [
    "movies_reviews.groupby('emotion').size()"
   ]
  },
  {
   "cell_type": "code",
   "execution_count": 52,
   "metadata": {},
   "outputs": [],
   "source": [
    "movies_reviews.to_csv('mediaKrytyk-commentsRates.csv', encoding='utf-8', index=False)"
   ]
  },
  {
   "cell_type": "code",
   "execution_count": null,
   "metadata": {},
   "outputs": [],
   "source": []
  }
 ],
 "metadata": {
  "kernelspec": {
   "display_name": "Python 2",
   "language": "python",
   "name": "python2"
  },
  "language_info": {
   "codemirror_mode": {
    "name": "ipython",
    "version": 2
   },
   "file_extension": ".py",
   "mimetype": "text/x-python",
   "name": "python",
   "nbconvert_exporter": "python",
   "pygments_lexer": "ipython2",
   "version": "2.7.14"
  }
 },
 "nbformat": 4,
 "nbformat_minor": 2
}
